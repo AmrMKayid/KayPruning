{
 "cells": [
  {
   "cell_type": "markdown",
   "metadata": {},
   "source": [
    "# For.ai: Let's Prune Neural Network!\n",
    "\n",
    "---"
   ]
  },
  {
   "cell_type": "code",
   "execution_count": 1,
   "metadata": {},
   "outputs": [],
   "source": [
    "%reload_ext autoreload\n",
    "%autoreload 2\n",
    "%matplotlib inline"
   ]
  },
  {
   "cell_type": "code",
   "execution_count": 2,
   "metadata": {},
   "outputs": [],
   "source": [
    "import pandas as pd"
   ]
  },
  {
   "cell_type": "code",
   "execution_count": 3,
   "metadata": {},
   "outputs": [],
   "source": [
    "from kaypruning.data import DataBunch\n",
    "from kaypruning.models import *\n",
    "from kaypruning.trainer import Trainer\n",
    "from kaypruning.utils import *"
   ]
  },
  {
   "cell_type": "code",
   "execution_count": 4,
   "metadata": {},
   "outputs": [
    {
     "name": "stdout",
     "output_type": "stream",
     "text": [
      "WARNING:tensorflow:Entity <bound method TopLevelFeature.decode_example of FeaturesDict({\n",
      "    'image': Image(shape=(28, 28, 1), dtype=tf.uint8),\n",
      "    'label': ClassLabel(shape=(), dtype=tf.int64, num_classes=10),\n",
      "})> could not be transformed and will be executed as-is. Please report this to the AutoGraph team. When filing the bug, set the verbosity to 10 (on Linux, `export AUTOGRAPH_VERBOSITY=10`) and attach the full output. Cause: Bad argument number for Name: 3, expecting 4\n"
     ]
    },
    {
     "name": "stderr",
     "output_type": "stream",
     "text": [
      "WARNING:tensorflow:Entity <bound method TopLevelFeature.decode_example of FeaturesDict({\n",
      "    'image': Image(shape=(28, 28, 1), dtype=tf.uint8),\n",
      "    'label': ClassLabel(shape=(), dtype=tf.int64, num_classes=10),\n",
      "})> could not be transformed and will be executed as-is. Please report this to the AutoGraph team. When filing the bug, set the verbosity to 10 (on Linux, `export AUTOGRAPH_VERBOSITY=10`) and attach the full output. Cause: Bad argument number for Name: 3, expecting 4\n",
      "WARNING:absl:Warning: Setting shuffle_files=True because split=TRAIN and shuffle_files=None. This behavior will be deprecated on 2019-08-06, at which point shuffle_files=False will be the default for all splits.\n"
     ]
    },
    {
     "name": "stdout",
     "output_type": "stream",
     "text": [
      "WARNING: Entity <bound method TopLevelFeature.decode_example of FeaturesDict({\n",
      "    'image': Image(shape=(28, 28, 1), dtype=tf.uint8),\n",
      "    'label': ClassLabel(shape=(), dtype=tf.int64, num_classes=10),\n",
      "})> could not be transformed and will be executed as-is. Please report this to the AutoGraph team. When filing the bug, set the verbosity to 10 (on Linux, `export AUTOGRAPH_VERBOSITY=10`) and attach the full output. Cause: Bad argument number for Name: 3, expecting 4\n",
      "WARNING:tensorflow:Entity <bound method TopLevelFeature.decode_example of FeaturesDict({\n",
      "    'image': Image(shape=(28, 28, 1), dtype=tf.uint8),\n",
      "    'label': ClassLabel(shape=(), dtype=tf.int64, num_classes=10),\n",
      "})> could not be transformed and will be executed as-is. Please report this to the AutoGraph team. When filing the bug, set the verbosity to 10 (on Linux, `export AUTOGRAPH_VERBOSITY=10`) and attach the full output. Cause: Bad argument number for Name: 3, expecting 4\n"
     ]
    },
    {
     "name": "stderr",
     "output_type": "stream",
     "text": [
      "WARNING:tensorflow:Entity <bound method TopLevelFeature.decode_example of FeaturesDict({\n",
      "    'image': Image(shape=(28, 28, 1), dtype=tf.uint8),\n",
      "    'label': ClassLabel(shape=(), dtype=tf.int64, num_classes=10),\n",
      "})> could not be transformed and will be executed as-is. Please report this to the AutoGraph team. When filing the bug, set the verbosity to 10 (on Linux, `export AUTOGRAPH_VERBOSITY=10`) and attach the full output. Cause: Bad argument number for Name: 3, expecting 4\n"
     ]
    },
    {
     "name": "stdout",
     "output_type": "stream",
     "text": [
      "WARNING: Entity <bound method TopLevelFeature.decode_example of FeaturesDict({\n",
      "    'image': Image(shape=(28, 28, 1), dtype=tf.uint8),\n",
      "    'label': ClassLabel(shape=(), dtype=tf.int64, num_classes=10),\n",
      "})> could not be transformed and will be executed as-is. Please report this to the AutoGraph team. When filing the bug, set the verbosity to 10 (on Linux, `export AUTOGRAPH_VERBOSITY=10`) and attach the full output. Cause: Bad argument number for Name: 3, expecting 4\n",
      "WARNING:tensorflow:Entity <function DataBunch._convert_images.<locals>.<lambda> at 0x136fa38c0> could not be transformed and will be executed as-is. Please report this to the AutoGraph team. When filing the bug, set the verbosity to 10 (on Linux, `export AUTOGRAPH_VERBOSITY=10`) and attach the full output. Cause: module 'gast' has no attribute 'Str'\n"
     ]
    },
    {
     "name": "stderr",
     "output_type": "stream",
     "text": [
      "WARNING:tensorflow:Entity <function DataBunch._convert_images.<locals>.<lambda> at 0x136fa38c0> could not be transformed and will be executed as-is. Please report this to the AutoGraph team. When filing the bug, set the verbosity to 10 (on Linux, `export AUTOGRAPH_VERBOSITY=10`) and attach the full output. Cause: module 'gast' has no attribute 'Str'\n"
     ]
    },
    {
     "name": "stdout",
     "output_type": "stream",
     "text": [
      "WARNING: Entity <function DataBunch._convert_images.<locals>.<lambda> at 0x136fa38c0> could not be transformed and will be executed as-is. Please report this to the AutoGraph team. When filing the bug, set the verbosity to 10 (on Linux, `export AUTOGRAPH_VERBOSITY=10`) and attach the full output. Cause: module 'gast' has no attribute 'Str'\n",
      "WARNING:tensorflow:Entity <function DataBunch._convert_images.<locals>.<lambda> at 0x137015e60> could not be transformed and will be executed as-is. Please report this to the AutoGraph team. When filing the bug, set the verbosity to 10 (on Linux, `export AUTOGRAPH_VERBOSITY=10`) and attach the full output. Cause: module 'gast' has no attribute 'Str'\n"
     ]
    },
    {
     "name": "stderr",
     "output_type": "stream",
     "text": [
      "WARNING:tensorflow:Entity <function DataBunch._convert_images.<locals>.<lambda> at 0x137015e60> could not be transformed and will be executed as-is. Please report this to the AutoGraph team. When filing the bug, set the verbosity to 10 (on Linux, `export AUTOGRAPH_VERBOSITY=10`) and attach the full output. Cause: module 'gast' has no attribute 'Str'\n"
     ]
    },
    {
     "name": "stdout",
     "output_type": "stream",
     "text": [
      "WARNING: Entity <function DataBunch._convert_images.<locals>.<lambda> at 0x137015e60> could not be transformed and will be executed as-is. Please report this to the AutoGraph team. When filing the bug, set the verbosity to 10 (on Linux, `export AUTOGRAPH_VERBOSITY=10`) and attach the full output. Cause: module 'gast' has no attribute 'Str'\n",
      "\u001b[32m [     1.24096s,  INFO] DataBunch:\n",
      "- name = mnist\n",
      "- train = <CacheDataset shapes: ((784,), ()), types: (tf.float32, tf.int64)>\n",
      "- test = <CacheDataset shapes: ((784,), ()), types: (tf.float32, tf.int64)>\n",
      "- batch = 32\n",
      "\n",
      " \u001b[0m\n"
     ]
    }
   ],
   "source": [
    "db = DataBunch('mnist') # Fashion-MNIST: DataBunch('fashion_mnist')"
   ]
  },
  {
   "cell_type": "code",
   "execution_count": 5,
   "metadata": {},
   "outputs": [
    {
     "name": "stdout",
     "output_type": "stream",
     "text": [
      "\u001b[32m [     1.50135s,  INFO] BaseModel:\n",
      "- supports_masking = False\n",
      "- optimizer = None\n",
      "- outputs = []\n",
      "- inputs = []\n",
      "- built = False\n",
      "- layer_1 = <kaypruning.models.base.BaseLayer object at 0x13008dd50>\n",
      "- layer_2 = <kaypruning.models.base.BaseLayer object at 0x12ffad510>\n",
      "- layer_3 = <kaypruning.models.base.BaseLayer object at 0x1371a0ad0>\n",
      "- layer_4 = <kaypruning.models.base.BaseLayer object at 0x1371a0e90>\n",
      "- classifier = <kaypruning.models.base.BaseLayer object at 0x136eeb950>\n",
      "\n",
      " \u001b[0m\n"
     ]
    }
   ],
   "source": [
    "model = get_model('BaseModel')  # For Keras Model: get_model('KerasModel')"
   ]
  },
  {
   "cell_type": "code",
   "execution_count": 6,
   "metadata": {},
   "outputs": [
    {
     "name": "stdout",
     "output_type": "stream",
     "text": [
      "\u001b[32m [     1.79445s,  INFO] Trainer:\n",
      "- model = <kaypruning.models.base.BaseModel object at 0x1372cfcd0>\n",
      "- db = <kaypruning.data.base.DataBunch object at 0x136ea79d0>\n",
      "- epochs = 5\n",
      "- path = /tmp/kay/models/kaypruning/mnist\n",
      "- loss_object = <tensorflow.python.keras.losses.SparseCategoricalCrossentropy object at 0x136cd4d90>\n",
      "- optimizer = <tensorflow.python.keras.optimizer_v2.adam.Adam object at 0x1372db810>\n",
      "- train_loss = <tensorflow.python.keras.metrics.Mean object at 0x1372db050>\n",
      "- train_accuracy = <tensorflow.python.keras.metrics.SparseCategoricalAccuracy object at 0x1372b9e50>\n",
      "- test_loss = <tensorflow.python.keras.metrics.Mean object at 0x1372dbb10>\n",
      "- test_accuracy = <tensorflow.python.keras.metrics.SparseCategoricalAccuracy object at 0x137311410>\n",
      "- ckpt = <tensorflow.python.training.tracking.util.Checkpoint object at 0x137311950>\n",
      "- manager = <tensorflow.python.training.checkpoint_management.CheckpointManager object at 0x137311e50>\n",
      "- metrics = {'train': {'losses': [], 'accuracies': []}, 'test': {'losses': [], 'accuracies': []}, 'weight': {'losses': [], 'accuracies': []}, 'unit': {'losses': [], 'accuracies': []}}\n",
      "\n",
      " \u001b[0m\n",
      "\u001b[32m [     1.80460s,  INFO] Initializing from scratch. \u001b[0m\n"
     ]
    }
   ],
   "source": [
    "trainer = Trainer(model=model, db=db)"
   ]
  },
  {
   "cell_type": "markdown",
   "metadata": {},
   "source": [
    "## Training"
   ]
  },
  {
   "cell_type": "code",
   "execution_count": 7,
   "metadata": {
    "scrolled": true
   },
   "outputs": [
    {
     "name": "stdout",
     "output_type": "stream",
     "text": [
      "WARNING:tensorflow:Entity <bound method Trainer.train_step of <tensorflow.python.eager.function.TfMethodTarget object at 0x137315510>> could not be transformed and will be executed as-is. Please report this to the AutoGraph team. When filing the bug, set the verbosity to 10 (on Linux, `export AUTOGRAPH_VERBOSITY=10`) and attach the full output. Cause: module 'gast' has no attribute 'Str'\n"
     ]
    },
    {
     "name": "stderr",
     "output_type": "stream",
     "text": [
      "WARNING:tensorflow:Entity <bound method Trainer.train_step of <tensorflow.python.eager.function.TfMethodTarget object at 0x137315510>> could not be transformed and will be executed as-is. Please report this to the AutoGraph team. When filing the bug, set the verbosity to 10 (on Linux, `export AUTOGRAPH_VERBOSITY=10`) and attach the full output. Cause: module 'gast' has no attribute 'Str'\n"
     ]
    },
    {
     "name": "stdout",
     "output_type": "stream",
     "text": [
      "WARNING: Entity <bound method Trainer.train_step of <tensorflow.python.eager.function.TfMethodTarget object at 0x137315510>> could not be transformed and will be executed as-is. Please report this to the AutoGraph team. When filing the bug, set the verbosity to 10 (on Linux, `export AUTOGRAPH_VERBOSITY=10`) and attach the full output. Cause: module 'gast' has no attribute 'Str'\n",
      "WARNING:tensorflow:Entity <bound method BaseModel.call of <kaypruning.models.base.BaseModel object at 0x1372cfcd0>> could not be transformed and will be executed as-is. Please report this to the AutoGraph team. When filing the bug, set the verbosity to 10 (on Linux, `export AUTOGRAPH_VERBOSITY=10`) and attach the full output. Cause: Bad argument number for Name: 3, expecting 4\n"
     ]
    },
    {
     "name": "stderr",
     "output_type": "stream",
     "text": [
      "WARNING:tensorflow:Entity <bound method BaseModel.call of <kaypruning.models.base.BaseModel object at 0x1372cfcd0>> could not be transformed and will be executed as-is. Please report this to the AutoGraph team. When filing the bug, set the verbosity to 10 (on Linux, `export AUTOGRAPH_VERBOSITY=10`) and attach the full output. Cause: Bad argument number for Name: 3, expecting 4\n"
     ]
    },
    {
     "name": "stdout",
     "output_type": "stream",
     "text": [
      "WARNING: Entity <bound method BaseModel.call of <kaypruning.models.base.BaseModel object at 0x1372cfcd0>> could not be transformed and will be executed as-is. Please report this to the AutoGraph team. When filing the bug, set the verbosity to 10 (on Linux, `export AUTOGRAPH_VERBOSITY=10`) and attach the full output. Cause: Bad argument number for Name: 3, expecting 4\n",
      "WARNING:tensorflow:Entity <bound method BaseLayer.call of <kaypruning.models.base.BaseLayer object at 0x13008dd50>> could not be transformed and will be executed as-is. Please report this to the AutoGraph team. When filing the bug, set the verbosity to 10 (on Linux, `export AUTOGRAPH_VERBOSITY=10`) and attach the full output. Cause: Bad argument number for Name: 3, expecting 4\n"
     ]
    },
    {
     "name": "stderr",
     "output_type": "stream",
     "text": [
      "WARNING:tensorflow:Entity <bound method BaseLayer.call of <kaypruning.models.base.BaseLayer object at 0x13008dd50>> could not be transformed and will be executed as-is. Please report this to the AutoGraph team. When filing the bug, set the verbosity to 10 (on Linux, `export AUTOGRAPH_VERBOSITY=10`) and attach the full output. Cause: Bad argument number for Name: 3, expecting 4\n"
     ]
    },
    {
     "name": "stdout",
     "output_type": "stream",
     "text": [
      "WARNING: Entity <bound method BaseLayer.call of <kaypruning.models.base.BaseLayer object at 0x13008dd50>> could not be transformed and will be executed as-is. Please report this to the AutoGraph team. When filing the bug, set the verbosity to 10 (on Linux, `export AUTOGRAPH_VERBOSITY=10`) and attach the full output. Cause: Bad argument number for Name: 3, expecting 4\n",
      "WARNING:tensorflow:Entity <bound method BaseLayer.call of <kaypruning.models.base.BaseLayer object at 0x12ffad510>> could not be transformed and will be executed as-is. Please report this to the AutoGraph team. When filing the bug, set the verbosity to 10 (on Linux, `export AUTOGRAPH_VERBOSITY=10`) and attach the full output. Cause: Bad argument number for Name: 3, expecting 4\n"
     ]
    },
    {
     "name": "stderr",
     "output_type": "stream",
     "text": [
      "WARNING:tensorflow:Entity <bound method BaseLayer.call of <kaypruning.models.base.BaseLayer object at 0x12ffad510>> could not be transformed and will be executed as-is. Please report this to the AutoGraph team. When filing the bug, set the verbosity to 10 (on Linux, `export AUTOGRAPH_VERBOSITY=10`) and attach the full output. Cause: Bad argument number for Name: 3, expecting 4\n"
     ]
    },
    {
     "name": "stdout",
     "output_type": "stream",
     "text": [
      "WARNING: Entity <bound method BaseLayer.call of <kaypruning.models.base.BaseLayer object at 0x12ffad510>> could not be transformed and will be executed as-is. Please report this to the AutoGraph team. When filing the bug, set the verbosity to 10 (on Linux, `export AUTOGRAPH_VERBOSITY=10`) and attach the full output. Cause: Bad argument number for Name: 3, expecting 4\n",
      "WARNING:tensorflow:Entity <bound method BaseLayer.call of <kaypruning.models.base.BaseLayer object at 0x1371a0ad0>> could not be transformed and will be executed as-is. Please report this to the AutoGraph team. When filing the bug, set the verbosity to 10 (on Linux, `export AUTOGRAPH_VERBOSITY=10`) and attach the full output. Cause: Bad argument number for Name: 3, expecting 4\n"
     ]
    },
    {
     "name": "stderr",
     "output_type": "stream",
     "text": [
      "WARNING:tensorflow:Entity <bound method BaseLayer.call of <kaypruning.models.base.BaseLayer object at 0x1371a0ad0>> could not be transformed and will be executed as-is. Please report this to the AutoGraph team. When filing the bug, set the verbosity to 10 (on Linux, `export AUTOGRAPH_VERBOSITY=10`) and attach the full output. Cause: Bad argument number for Name: 3, expecting 4\n"
     ]
    },
    {
     "name": "stdout",
     "output_type": "stream",
     "text": [
      "WARNING: Entity <bound method BaseLayer.call of <kaypruning.models.base.BaseLayer object at 0x1371a0ad0>> could not be transformed and will be executed as-is. Please report this to the AutoGraph team. When filing the bug, set the verbosity to 10 (on Linux, `export AUTOGRAPH_VERBOSITY=10`) and attach the full output. Cause: Bad argument number for Name: 3, expecting 4\n",
      "WARNING:tensorflow:Entity <bound method BaseLayer.call of <kaypruning.models.base.BaseLayer object at 0x1371a0e90>> could not be transformed and will be executed as-is. Please report this to the AutoGraph team. When filing the bug, set the verbosity to 10 (on Linux, `export AUTOGRAPH_VERBOSITY=10`) and attach the full output. Cause: Bad argument number for Name: 3, expecting 4\n"
     ]
    },
    {
     "name": "stderr",
     "output_type": "stream",
     "text": [
      "WARNING:tensorflow:Entity <bound method BaseLayer.call of <kaypruning.models.base.BaseLayer object at 0x1371a0e90>> could not be transformed and will be executed as-is. Please report this to the AutoGraph team. When filing the bug, set the verbosity to 10 (on Linux, `export AUTOGRAPH_VERBOSITY=10`) and attach the full output. Cause: Bad argument number for Name: 3, expecting 4\n"
     ]
    },
    {
     "name": "stdout",
     "output_type": "stream",
     "text": [
      "WARNING: Entity <bound method BaseLayer.call of <kaypruning.models.base.BaseLayer object at 0x1371a0e90>> could not be transformed and will be executed as-is. Please report this to the AutoGraph team. When filing the bug, set the verbosity to 10 (on Linux, `export AUTOGRAPH_VERBOSITY=10`) and attach the full output. Cause: Bad argument number for Name: 3, expecting 4\n",
      "WARNING:tensorflow:Entity <bound method BaseLayer.call of <kaypruning.models.base.BaseLayer object at 0x136eeb950>> could not be transformed and will be executed as-is. Please report this to the AutoGraph team. When filing the bug, set the verbosity to 10 (on Linux, `export AUTOGRAPH_VERBOSITY=10`) and attach the full output. Cause: Bad argument number for Name: 3, expecting 4\n"
     ]
    },
    {
     "name": "stderr",
     "output_type": "stream",
     "text": [
      "WARNING:tensorflow:Entity <bound method BaseLayer.call of <kaypruning.models.base.BaseLayer object at 0x136eeb950>> could not be transformed and will be executed as-is. Please report this to the AutoGraph team. When filing the bug, set the verbosity to 10 (on Linux, `export AUTOGRAPH_VERBOSITY=10`) and attach the full output. Cause: Bad argument number for Name: 3, expecting 4\n"
     ]
    },
    {
     "name": "stdout",
     "output_type": "stream",
     "text": [
      "WARNING: Entity <bound method BaseLayer.call of <kaypruning.models.base.BaseLayer object at 0x136eeb950>> could not be transformed and will be executed as-is. Please report this to the AutoGraph team. When filing the bug, set the verbosity to 10 (on Linux, `export AUTOGRAPH_VERBOSITY=10`) and attach the full output. Cause: Bad argument number for Name: 3, expecting 4\n",
      "WARNING:tensorflow:Entity <function Function._initialize_uninitialized_variables.<locals>.initialize_variables at 0x136e33ef0> could not be transformed and will be executed as-is. Please report this to the AutoGraph team. When filing the bug, set the verbosity to 10 (on Linux, `export AUTOGRAPH_VERBOSITY=10`) and attach the full output. Cause: module 'gast' has no attribute 'Num'\n"
     ]
    },
    {
     "name": "stderr",
     "output_type": "stream",
     "text": [
      "WARNING:tensorflow:Entity <function Function._initialize_uninitialized_variables.<locals>.initialize_variables at 0x136e33ef0> could not be transformed and will be executed as-is. Please report this to the AutoGraph team. When filing the bug, set the verbosity to 10 (on Linux, `export AUTOGRAPH_VERBOSITY=10`) and attach the full output. Cause: module 'gast' has no attribute 'Num'\n"
     ]
    },
    {
     "name": "stdout",
     "output_type": "stream",
     "text": [
      "WARNING: Entity <function Function._initialize_uninitialized_variables.<locals>.initialize_variables at 0x136e33ef0> could not be transformed and will be executed as-is. Please report this to the AutoGraph team. When filing the bug, set the verbosity to 10 (on Linux, `export AUTOGRAPH_VERBOSITY=10`) and attach the full output. Cause: module 'gast' has no attribute 'Num'\n",
      "WARNING:tensorflow:Entity <bound method BaseModel.call of <kaypruning.models.base.BaseModel object at 0x1372cfcd0>> could not be transformed and will be executed as-is. Please report this to the AutoGraph team. When filing the bug, set the verbosity to 10 (on Linux, `export AUTOGRAPH_VERBOSITY=10`) and attach the full output. Cause: Bad argument number for Name: 3, expecting 4\n"
     ]
    },
    {
     "name": "stderr",
     "output_type": "stream",
     "text": [
      "WARNING:tensorflow:Entity <bound method BaseModel.call of <kaypruning.models.base.BaseModel object at 0x1372cfcd0>> could not be transformed and will be executed as-is. Please report this to the AutoGraph team. When filing the bug, set the verbosity to 10 (on Linux, `export AUTOGRAPH_VERBOSITY=10`) and attach the full output. Cause: Bad argument number for Name: 3, expecting 4\n"
     ]
    },
    {
     "name": "stdout",
     "output_type": "stream",
     "text": [
      "WARNING: Entity <bound method BaseModel.call of <kaypruning.models.base.BaseModel object at 0x1372cfcd0>> could not be transformed and will be executed as-is. Please report this to the AutoGraph team. When filing the bug, set the verbosity to 10 (on Linux, `export AUTOGRAPH_VERBOSITY=10`) and attach the full output. Cause: Bad argument number for Name: 3, expecting 4\n",
      "WARNING:tensorflow:Entity <bound method BaseLayer.call of <kaypruning.models.base.BaseLayer object at 0x13008dd50>> could not be transformed and will be executed as-is. Please report this to the AutoGraph team. When filing the bug, set the verbosity to 10 (on Linux, `export AUTOGRAPH_VERBOSITY=10`) and attach the full output. Cause: Bad argument number for Name: 3, expecting 4\n"
     ]
    },
    {
     "name": "stderr",
     "output_type": "stream",
     "text": [
      "WARNING:tensorflow:Entity <bound method BaseLayer.call of <kaypruning.models.base.BaseLayer object at 0x13008dd50>> could not be transformed and will be executed as-is. Please report this to the AutoGraph team. When filing the bug, set the verbosity to 10 (on Linux, `export AUTOGRAPH_VERBOSITY=10`) and attach the full output. Cause: Bad argument number for Name: 3, expecting 4\n"
     ]
    },
    {
     "name": "stdout",
     "output_type": "stream",
     "text": [
      "WARNING: Entity <bound method BaseLayer.call of <kaypruning.models.base.BaseLayer object at 0x13008dd50>> could not be transformed and will be executed as-is. Please report this to the AutoGraph team. When filing the bug, set the verbosity to 10 (on Linux, `export AUTOGRAPH_VERBOSITY=10`) and attach the full output. Cause: Bad argument number for Name: 3, expecting 4\n",
      "WARNING:tensorflow:Entity <bound method BaseLayer.call of <kaypruning.models.base.BaseLayer object at 0x12ffad510>> could not be transformed and will be executed as-is. Please report this to the AutoGraph team. When filing the bug, set the verbosity to 10 (on Linux, `export AUTOGRAPH_VERBOSITY=10`) and attach the full output. Cause: Bad argument number for Name: 3, expecting 4\n"
     ]
    },
    {
     "name": "stderr",
     "output_type": "stream",
     "text": [
      "WARNING:tensorflow:Entity <bound method BaseLayer.call of <kaypruning.models.base.BaseLayer object at 0x12ffad510>> could not be transformed and will be executed as-is. Please report this to the AutoGraph team. When filing the bug, set the verbosity to 10 (on Linux, `export AUTOGRAPH_VERBOSITY=10`) and attach the full output. Cause: Bad argument number for Name: 3, expecting 4\n"
     ]
    },
    {
     "name": "stdout",
     "output_type": "stream",
     "text": [
      "WARNING: Entity <bound method BaseLayer.call of <kaypruning.models.base.BaseLayer object at 0x12ffad510>> could not be transformed and will be executed as-is. Please report this to the AutoGraph team. When filing the bug, set the verbosity to 10 (on Linux, `export AUTOGRAPH_VERBOSITY=10`) and attach the full output. Cause: Bad argument number for Name: 3, expecting 4\n",
      "WARNING:tensorflow:Entity <bound method BaseLayer.call of <kaypruning.models.base.BaseLayer object at 0x1371a0ad0>> could not be transformed and will be executed as-is. Please report this to the AutoGraph team. When filing the bug, set the verbosity to 10 (on Linux, `export AUTOGRAPH_VERBOSITY=10`) and attach the full output. Cause: Bad argument number for Name: 3, expecting 4\n"
     ]
    },
    {
     "name": "stderr",
     "output_type": "stream",
     "text": [
      "WARNING:tensorflow:Entity <bound method BaseLayer.call of <kaypruning.models.base.BaseLayer object at 0x1371a0ad0>> could not be transformed and will be executed as-is. Please report this to the AutoGraph team. When filing the bug, set the verbosity to 10 (on Linux, `export AUTOGRAPH_VERBOSITY=10`) and attach the full output. Cause: Bad argument number for Name: 3, expecting 4\n"
     ]
    },
    {
     "name": "stdout",
     "output_type": "stream",
     "text": [
      "WARNING: Entity <bound method BaseLayer.call of <kaypruning.models.base.BaseLayer object at 0x1371a0ad0>> could not be transformed and will be executed as-is. Please report this to the AutoGraph team. When filing the bug, set the verbosity to 10 (on Linux, `export AUTOGRAPH_VERBOSITY=10`) and attach the full output. Cause: Bad argument number for Name: 3, expecting 4\n",
      "WARNING:tensorflow:Entity <bound method BaseLayer.call of <kaypruning.models.base.BaseLayer object at 0x1371a0e90>> could not be transformed and will be executed as-is. Please report this to the AutoGraph team. When filing the bug, set the verbosity to 10 (on Linux, `export AUTOGRAPH_VERBOSITY=10`) and attach the full output. Cause: Bad argument number for Name: 3, expecting 4\n"
     ]
    },
    {
     "name": "stderr",
     "output_type": "stream",
     "text": [
      "WARNING:tensorflow:Entity <bound method BaseLayer.call of <kaypruning.models.base.BaseLayer object at 0x1371a0e90>> could not be transformed and will be executed as-is. Please report this to the AutoGraph team. When filing the bug, set the verbosity to 10 (on Linux, `export AUTOGRAPH_VERBOSITY=10`) and attach the full output. Cause: Bad argument number for Name: 3, expecting 4\n"
     ]
    },
    {
     "name": "stdout",
     "output_type": "stream",
     "text": [
      "WARNING: Entity <bound method BaseLayer.call of <kaypruning.models.base.BaseLayer object at 0x1371a0e90>> could not be transformed and will be executed as-is. Please report this to the AutoGraph team. When filing the bug, set the verbosity to 10 (on Linux, `export AUTOGRAPH_VERBOSITY=10`) and attach the full output. Cause: Bad argument number for Name: 3, expecting 4\n",
      "WARNING:tensorflow:Entity <bound method BaseLayer.call of <kaypruning.models.base.BaseLayer object at 0x136eeb950>> could not be transformed and will be executed as-is. Please report this to the AutoGraph team. When filing the bug, set the verbosity to 10 (on Linux, `export AUTOGRAPH_VERBOSITY=10`) and attach the full output. Cause: Bad argument number for Name: 3, expecting 4\n"
     ]
    },
    {
     "name": "stderr",
     "output_type": "stream",
     "text": [
      "WARNING:tensorflow:Entity <bound method BaseLayer.call of <kaypruning.models.base.BaseLayer object at 0x136eeb950>> could not be transformed and will be executed as-is. Please report this to the AutoGraph team. When filing the bug, set the verbosity to 10 (on Linux, `export AUTOGRAPH_VERBOSITY=10`) and attach the full output. Cause: Bad argument number for Name: 3, expecting 4\n"
     ]
    },
    {
     "name": "stdout",
     "output_type": "stream",
     "text": [
      "WARNING: Entity <bound method BaseLayer.call of <kaypruning.models.base.BaseLayer object at 0x136eeb950>> could not be transformed and will be executed as-is. Please report this to the AutoGraph team. When filing the bug, set the verbosity to 10 (on Linux, `export AUTOGRAPH_VERBOSITY=10`) and attach the full output. Cause: Bad argument number for Name: 3, expecting 4\n",
      "WARNING:tensorflow:Entity <bound method Trainer.test_step of <tensorflow.python.eager.function.TfMethodTarget object at 0x1429fca10>> could not be transformed and will be executed as-is. Please report this to the AutoGraph team. When filing the bug, set the verbosity to 10 (on Linux, `export AUTOGRAPH_VERBOSITY=10`) and attach the full output. Cause: module 'gast' has no attribute 'Str'\n"
     ]
    },
    {
     "name": "stderr",
     "output_type": "stream",
     "text": [
      "WARNING:tensorflow:Entity <bound method Trainer.test_step of <tensorflow.python.eager.function.TfMethodTarget object at 0x1429fca10>> could not be transformed and will be executed as-is. Please report this to the AutoGraph team. When filing the bug, set the verbosity to 10 (on Linux, `export AUTOGRAPH_VERBOSITY=10`) and attach the full output. Cause: module 'gast' has no attribute 'Str'\n"
     ]
    },
    {
     "name": "stdout",
     "output_type": "stream",
     "text": [
      "WARNING: Entity <bound method Trainer.test_step of <tensorflow.python.eager.function.TfMethodTarget object at 0x1429fca10>> could not be transformed and will be executed as-is. Please report this to the AutoGraph team. When filing the bug, set the verbosity to 10 (on Linux, `export AUTOGRAPH_VERBOSITY=10`) and attach the full output. Cause: module 'gast' has no attribute 'Str'\n",
      "WARNING:tensorflow:Entity <bound method BaseModel.call of <kaypruning.models.base.BaseModel object at 0x1372cfcd0>> could not be transformed and will be executed as-is. Please report this to the AutoGraph team. When filing the bug, set the verbosity to 10 (on Linux, `export AUTOGRAPH_VERBOSITY=10`) and attach the full output. Cause: Bad argument number for Name: 3, expecting 4\n"
     ]
    },
    {
     "name": "stderr",
     "output_type": "stream",
     "text": [
      "WARNING:tensorflow:Entity <bound method BaseModel.call of <kaypruning.models.base.BaseModel object at 0x1372cfcd0>> could not be transformed and will be executed as-is. Please report this to the AutoGraph team. When filing the bug, set the verbosity to 10 (on Linux, `export AUTOGRAPH_VERBOSITY=10`) and attach the full output. Cause: Bad argument number for Name: 3, expecting 4\n"
     ]
    },
    {
     "name": "stdout",
     "output_type": "stream",
     "text": [
      "WARNING: Entity <bound method BaseModel.call of <kaypruning.models.base.BaseModel object at 0x1372cfcd0>> could not be transformed and will be executed as-is. Please report this to the AutoGraph team. When filing the bug, set the verbosity to 10 (on Linux, `export AUTOGRAPH_VERBOSITY=10`) and attach the full output. Cause: Bad argument number for Name: 3, expecting 4\n",
      "WARNING:tensorflow:Entity <bound method BaseLayer.call of <kaypruning.models.base.BaseLayer object at 0x13008dd50>> could not be transformed and will be executed as-is. Please report this to the AutoGraph team. When filing the bug, set the verbosity to 10 (on Linux, `export AUTOGRAPH_VERBOSITY=10`) and attach the full output. Cause: Bad argument number for Name: 3, expecting 4\n"
     ]
    },
    {
     "name": "stderr",
     "output_type": "stream",
     "text": [
      "WARNING:tensorflow:Entity <bound method BaseLayer.call of <kaypruning.models.base.BaseLayer object at 0x13008dd50>> could not be transformed and will be executed as-is. Please report this to the AutoGraph team. When filing the bug, set the verbosity to 10 (on Linux, `export AUTOGRAPH_VERBOSITY=10`) and attach the full output. Cause: Bad argument number for Name: 3, expecting 4\n"
     ]
    },
    {
     "name": "stdout",
     "output_type": "stream",
     "text": [
      "WARNING: Entity <bound method BaseLayer.call of <kaypruning.models.base.BaseLayer object at 0x13008dd50>> could not be transformed and will be executed as-is. Please report this to the AutoGraph team. When filing the bug, set the verbosity to 10 (on Linux, `export AUTOGRAPH_VERBOSITY=10`) and attach the full output. Cause: Bad argument number for Name: 3, expecting 4\n",
      "WARNING:tensorflow:Entity <bound method BaseLayer.call of <kaypruning.models.base.BaseLayer object at 0x12ffad510>> could not be transformed and will be executed as-is. Please report this to the AutoGraph team. When filing the bug, set the verbosity to 10 (on Linux, `export AUTOGRAPH_VERBOSITY=10`) and attach the full output. Cause: Bad argument number for Name: 3, expecting 4\n"
     ]
    },
    {
     "name": "stderr",
     "output_type": "stream",
     "text": [
      "WARNING:tensorflow:Entity <bound method BaseLayer.call of <kaypruning.models.base.BaseLayer object at 0x12ffad510>> could not be transformed and will be executed as-is. Please report this to the AutoGraph team. When filing the bug, set the verbosity to 10 (on Linux, `export AUTOGRAPH_VERBOSITY=10`) and attach the full output. Cause: Bad argument number for Name: 3, expecting 4\n"
     ]
    },
    {
     "name": "stdout",
     "output_type": "stream",
     "text": [
      "WARNING: Entity <bound method BaseLayer.call of <kaypruning.models.base.BaseLayer object at 0x12ffad510>> could not be transformed and will be executed as-is. Please report this to the AutoGraph team. When filing the bug, set the verbosity to 10 (on Linux, `export AUTOGRAPH_VERBOSITY=10`) and attach the full output. Cause: Bad argument number for Name: 3, expecting 4\n",
      "WARNING:tensorflow:Entity <bound method BaseLayer.call of <kaypruning.models.base.BaseLayer object at 0x1371a0ad0>> could not be transformed and will be executed as-is. Please report this to the AutoGraph team. When filing the bug, set the verbosity to 10 (on Linux, `export AUTOGRAPH_VERBOSITY=10`) and attach the full output. Cause: Bad argument number for Name: 3, expecting 4\n"
     ]
    },
    {
     "name": "stderr",
     "output_type": "stream",
     "text": [
      "WARNING:tensorflow:Entity <bound method BaseLayer.call of <kaypruning.models.base.BaseLayer object at 0x1371a0ad0>> could not be transformed and will be executed as-is. Please report this to the AutoGraph team. When filing the bug, set the verbosity to 10 (on Linux, `export AUTOGRAPH_VERBOSITY=10`) and attach the full output. Cause: Bad argument number for Name: 3, expecting 4\n"
     ]
    },
    {
     "name": "stdout",
     "output_type": "stream",
     "text": [
      "WARNING: Entity <bound method BaseLayer.call of <kaypruning.models.base.BaseLayer object at 0x1371a0ad0>> could not be transformed and will be executed as-is. Please report this to the AutoGraph team. When filing the bug, set the verbosity to 10 (on Linux, `export AUTOGRAPH_VERBOSITY=10`) and attach the full output. Cause: Bad argument number for Name: 3, expecting 4\n",
      "WARNING:tensorflow:Entity <bound method BaseLayer.call of <kaypruning.models.base.BaseLayer object at 0x1371a0e90>> could not be transformed and will be executed as-is. Please report this to the AutoGraph team. When filing the bug, set the verbosity to 10 (on Linux, `export AUTOGRAPH_VERBOSITY=10`) and attach the full output. Cause: Bad argument number for Name: 3, expecting 4\n"
     ]
    },
    {
     "name": "stderr",
     "output_type": "stream",
     "text": [
      "WARNING:tensorflow:Entity <bound method BaseLayer.call of <kaypruning.models.base.BaseLayer object at 0x1371a0e90>> could not be transformed and will be executed as-is. Please report this to the AutoGraph team. When filing the bug, set the verbosity to 10 (on Linux, `export AUTOGRAPH_VERBOSITY=10`) and attach the full output. Cause: Bad argument number for Name: 3, expecting 4\n"
     ]
    },
    {
     "name": "stdout",
     "output_type": "stream",
     "text": [
      "WARNING: Entity <bound method BaseLayer.call of <kaypruning.models.base.BaseLayer object at 0x1371a0e90>> could not be transformed and will be executed as-is. Please report this to the AutoGraph team. When filing the bug, set the verbosity to 10 (on Linux, `export AUTOGRAPH_VERBOSITY=10`) and attach the full output. Cause: Bad argument number for Name: 3, expecting 4\n",
      "WARNING:tensorflow:Entity <bound method BaseLayer.call of <kaypruning.models.base.BaseLayer object at 0x136eeb950>> could not be transformed and will be executed as-is. Please report this to the AutoGraph team. When filing the bug, set the verbosity to 10 (on Linux, `export AUTOGRAPH_VERBOSITY=10`) and attach the full output. Cause: Bad argument number for Name: 3, expecting 4\n"
     ]
    },
    {
     "name": "stderr",
     "output_type": "stream",
     "text": [
      "WARNING:tensorflow:Entity <bound method BaseLayer.call of <kaypruning.models.base.BaseLayer object at 0x136eeb950>> could not be transformed and will be executed as-is. Please report this to the AutoGraph team. When filing the bug, set the verbosity to 10 (on Linux, `export AUTOGRAPH_VERBOSITY=10`) and attach the full output. Cause: Bad argument number for Name: 3, expecting 4\n"
     ]
    },
    {
     "name": "stdout",
     "output_type": "stream",
     "text": [
      "WARNING: Entity <bound method BaseLayer.call of <kaypruning.models.base.BaseLayer object at 0x136eeb950>> could not be transformed and will be executed as-is. Please report this to the AutoGraph team. When filing the bug, set the verbosity to 10 (on Linux, `export AUTOGRAPH_VERBOSITY=10`) and attach the full output. Cause: Bad argument number for Name: 3, expecting 4\n",
      "WARNING:tensorflow:Entity <bound method BaseModel.call of <kaypruning.models.base.BaseModel object at 0x1372cfcd0>> could not be transformed and will be executed as-is. Please report this to the AutoGraph team. When filing the bug, set the verbosity to 10 (on Linux, `export AUTOGRAPH_VERBOSITY=10`) and attach the full output. Cause: Bad argument number for Name: 3, expecting 4\n"
     ]
    },
    {
     "name": "stderr",
     "output_type": "stream",
     "text": [
      "WARNING:tensorflow:Entity <bound method BaseModel.call of <kaypruning.models.base.BaseModel object at 0x1372cfcd0>> could not be transformed and will be executed as-is. Please report this to the AutoGraph team. When filing the bug, set the verbosity to 10 (on Linux, `export AUTOGRAPH_VERBOSITY=10`) and attach the full output. Cause: Bad argument number for Name: 3, expecting 4\n"
     ]
    },
    {
     "name": "stdout",
     "output_type": "stream",
     "text": [
      "WARNING: Entity <bound method BaseModel.call of <kaypruning.models.base.BaseModel object at 0x1372cfcd0>> could not be transformed and will be executed as-is. Please report this to the AutoGraph team. When filing the bug, set the verbosity to 10 (on Linux, `export AUTOGRAPH_VERBOSITY=10`) and attach the full output. Cause: Bad argument number for Name: 3, expecting 4\n",
      "WARNING:tensorflow:Entity <bound method BaseLayer.call of <kaypruning.models.base.BaseLayer object at 0x13008dd50>> could not be transformed and will be executed as-is. Please report this to the AutoGraph team. When filing the bug, set the verbosity to 10 (on Linux, `export AUTOGRAPH_VERBOSITY=10`) and attach the full output. Cause: Bad argument number for Name: 3, expecting 4\n"
     ]
    },
    {
     "name": "stderr",
     "output_type": "stream",
     "text": [
      "WARNING:tensorflow:Entity <bound method BaseLayer.call of <kaypruning.models.base.BaseLayer object at 0x13008dd50>> could not be transformed and will be executed as-is. Please report this to the AutoGraph team. When filing the bug, set the verbosity to 10 (on Linux, `export AUTOGRAPH_VERBOSITY=10`) and attach the full output. Cause: Bad argument number for Name: 3, expecting 4\n"
     ]
    },
    {
     "name": "stdout",
     "output_type": "stream",
     "text": [
      "WARNING: Entity <bound method BaseLayer.call of <kaypruning.models.base.BaseLayer object at 0x13008dd50>> could not be transformed and will be executed as-is. Please report this to the AutoGraph team. When filing the bug, set the verbosity to 10 (on Linux, `export AUTOGRAPH_VERBOSITY=10`) and attach the full output. Cause: Bad argument number for Name: 3, expecting 4\n",
      "WARNING:tensorflow:Entity <bound method BaseLayer.call of <kaypruning.models.base.BaseLayer object at 0x12ffad510>> could not be transformed and will be executed as-is. Please report this to the AutoGraph team. When filing the bug, set the verbosity to 10 (on Linux, `export AUTOGRAPH_VERBOSITY=10`) and attach the full output. Cause: Bad argument number for Name: 3, expecting 4\n"
     ]
    },
    {
     "name": "stderr",
     "output_type": "stream",
     "text": [
      "WARNING:tensorflow:Entity <bound method BaseLayer.call of <kaypruning.models.base.BaseLayer object at 0x12ffad510>> could not be transformed and will be executed as-is. Please report this to the AutoGraph team. When filing the bug, set the verbosity to 10 (on Linux, `export AUTOGRAPH_VERBOSITY=10`) and attach the full output. Cause: Bad argument number for Name: 3, expecting 4\n"
     ]
    },
    {
     "name": "stdout",
     "output_type": "stream",
     "text": [
      "WARNING: Entity <bound method BaseLayer.call of <kaypruning.models.base.BaseLayer object at 0x12ffad510>> could not be transformed and will be executed as-is. Please report this to the AutoGraph team. When filing the bug, set the verbosity to 10 (on Linux, `export AUTOGRAPH_VERBOSITY=10`) and attach the full output. Cause: Bad argument number for Name: 3, expecting 4\n",
      "WARNING:tensorflow:Entity <bound method BaseLayer.call of <kaypruning.models.base.BaseLayer object at 0x1371a0ad0>> could not be transformed and will be executed as-is. Please report this to the AutoGraph team. When filing the bug, set the verbosity to 10 (on Linux, `export AUTOGRAPH_VERBOSITY=10`) and attach the full output. Cause: Bad argument number for Name: 3, expecting 4\n"
     ]
    },
    {
     "name": "stderr",
     "output_type": "stream",
     "text": [
      "WARNING:tensorflow:Entity <bound method BaseLayer.call of <kaypruning.models.base.BaseLayer object at 0x1371a0ad0>> could not be transformed and will be executed as-is. Please report this to the AutoGraph team. When filing the bug, set the verbosity to 10 (on Linux, `export AUTOGRAPH_VERBOSITY=10`) and attach the full output. Cause: Bad argument number for Name: 3, expecting 4\n"
     ]
    },
    {
     "name": "stdout",
     "output_type": "stream",
     "text": [
      "WARNING: Entity <bound method BaseLayer.call of <kaypruning.models.base.BaseLayer object at 0x1371a0ad0>> could not be transformed and will be executed as-is. Please report this to the AutoGraph team. When filing the bug, set the verbosity to 10 (on Linux, `export AUTOGRAPH_VERBOSITY=10`) and attach the full output. Cause: Bad argument number for Name: 3, expecting 4\n",
      "WARNING:tensorflow:Entity <bound method BaseLayer.call of <kaypruning.models.base.BaseLayer object at 0x1371a0e90>> could not be transformed and will be executed as-is. Please report this to the AutoGraph team. When filing the bug, set the verbosity to 10 (on Linux, `export AUTOGRAPH_VERBOSITY=10`) and attach the full output. Cause: Bad argument number for Name: 3, expecting 4\n"
     ]
    },
    {
     "name": "stderr",
     "output_type": "stream",
     "text": [
      "WARNING:tensorflow:Entity <bound method BaseLayer.call of <kaypruning.models.base.BaseLayer object at 0x1371a0e90>> could not be transformed and will be executed as-is. Please report this to the AutoGraph team. When filing the bug, set the verbosity to 10 (on Linux, `export AUTOGRAPH_VERBOSITY=10`) and attach the full output. Cause: Bad argument number for Name: 3, expecting 4\n"
     ]
    },
    {
     "name": "stdout",
     "output_type": "stream",
     "text": [
      "WARNING: Entity <bound method BaseLayer.call of <kaypruning.models.base.BaseLayer object at 0x1371a0e90>> could not be transformed and will be executed as-is. Please report this to the AutoGraph team. When filing the bug, set the verbosity to 10 (on Linux, `export AUTOGRAPH_VERBOSITY=10`) and attach the full output. Cause: Bad argument number for Name: 3, expecting 4\n",
      "WARNING:tensorflow:Entity <bound method BaseLayer.call of <kaypruning.models.base.BaseLayer object at 0x136eeb950>> could not be transformed and will be executed as-is. Please report this to the AutoGraph team. When filing the bug, set the verbosity to 10 (on Linux, `export AUTOGRAPH_VERBOSITY=10`) and attach the full output. Cause: Bad argument number for Name: 3, expecting 4\n"
     ]
    },
    {
     "name": "stderr",
     "output_type": "stream",
     "text": [
      "WARNING:tensorflow:Entity <bound method BaseLayer.call of <kaypruning.models.base.BaseLayer object at 0x136eeb950>> could not be transformed and will be executed as-is. Please report this to the AutoGraph team. When filing the bug, set the verbosity to 10 (on Linux, `export AUTOGRAPH_VERBOSITY=10`) and attach the full output. Cause: Bad argument number for Name: 3, expecting 4\n"
     ]
    },
    {
     "name": "stdout",
     "output_type": "stream",
     "text": [
      "WARNING: Entity <bound method BaseLayer.call of <kaypruning.models.base.BaseLayer object at 0x136eeb950>> could not be transformed and will be executed as-is. Please report this to the AutoGraph team. When filing the bug, set the verbosity to 10 (on Linux, `export AUTOGRAPH_VERBOSITY=10`) and attach the full output. Cause: Bad argument number for Name: 3, expecting 4\n",
      "\u001b[32m [    78.18216s,  INFO] Epoch 1: (Train Loss: 0.20366163551807404, Accuracy: 93.95999908447266%, Test Loss: 0.1518600434064865, Test Accuracy: 95.5%) \u001b[0m\n",
      "\u001b[32m [    78.35302s,  INFO] Saved checkpoint for epoch 1: /tmp/kay/models/kaypruning/mnist/ckpt-1 \u001b[0m\n",
      "\u001b[32m [   128.46294s,  INFO] Epoch 2: (Train Loss: 0.10071395337581635, Accuracy: 97.1199951171875%, Test Loss: 0.10678219050168991, Test Accuracy: 96.87999725341797%) \u001b[0m\n",
      "\u001b[32m [   128.64775s,  INFO] Saved checkpoint for epoch 2: /tmp/kay/models/kaypruning/mnist/ckpt-2 \u001b[0m\n",
      "\u001b[32m [   183.17607s,  INFO] Epoch 3: (Train Loss: 0.07596752047538757, Accuracy: 97.83999633789062%, Test Loss: 0.0849023312330246, Test Accuracy: 97.79000091552734%) \u001b[0m\n",
      "\u001b[32m [   183.36587s,  INFO] Saved checkpoint for epoch 3: /tmp/kay/models/kaypruning/mnist/ckpt-3 \u001b[0m\n",
      "\u001b[32m [   234.43492s,  INFO] Epoch 4: (Train Loss: 0.059505049139261246, Accuracy: 98.3933334350586%, Test Loss: 0.08722230792045593, Test Accuracy: 97.70999908447266%) \u001b[0m\n",
      "\u001b[32m [   234.59116s,  INFO] Saved checkpoint for epoch 4: /tmp/kay/models/kaypruning/mnist/ckpt-4 \u001b[0m\n",
      "\u001b[32m [   289.41420s,  INFO] Epoch 5: (Train Loss: 0.051225028932094574, Accuracy: 98.47833251953125%, Test Loss: 0.10054562985897064, Test Accuracy: 97.5999984741211%) \u001b[0m\n",
      "\u001b[32m [   289.63326s,  INFO] Saved checkpoint for epoch 5: /tmp/kay/models/kaypruning/mnist/ckpt-5 \u001b[0m\n"
     ]
    }
   ],
   "source": [
    "trainer.run()"
   ]
  },
  {
   "cell_type": "code",
   "execution_count": 8,
   "metadata": {},
   "outputs": [
    {
     "data": {
      "text/plain": [
       "{'train': {'losses': [<tf.Tensor: id=5463, shape=(), dtype=float32, numpy=0.20366164>,\n",
       "   <tf.Tensor: id=9945, shape=(), dtype=float32, numpy=0.10071395>,\n",
       "   <tf.Tensor: id=14427, shape=(), dtype=float32, numpy=0.07596752>,\n",
       "   <tf.Tensor: id=18909, shape=(), dtype=float32, numpy=0.05950505>,\n",
       "   <tf.Tensor: id=23391, shape=(), dtype=float32, numpy=0.05122503>],\n",
       "  'accuracies': [<tf.Tensor: id=5468, shape=(), dtype=float32, numpy=93.96>,\n",
       "   <tf.Tensor: id=9950, shape=(), dtype=float32, numpy=97.119995>,\n",
       "   <tf.Tensor: id=14432, shape=(), dtype=float32, numpy=97.84>,\n",
       "   <tf.Tensor: id=18914, shape=(), dtype=float32, numpy=98.39333>,\n",
       "   <tf.Tensor: id=23396, shape=(), dtype=float32, numpy=98.47833>]},\n",
       " 'test': {'losses': [<tf.Tensor: id=5471, shape=(), dtype=float32, numpy=0.15186004>,\n",
       "   <tf.Tensor: id=9953, shape=(), dtype=float32, numpy=0.10678219>,\n",
       "   <tf.Tensor: id=14435, shape=(), dtype=float32, numpy=0.08490233>,\n",
       "   <tf.Tensor: id=18917, shape=(), dtype=float32, numpy=0.08722231>,\n",
       "   <tf.Tensor: id=23399, shape=(), dtype=float32, numpy=0.10054563>],\n",
       "  'accuracies': [<tf.Tensor: id=5476, shape=(), dtype=float32, numpy=95.5>,\n",
       "   <tf.Tensor: id=9958, shape=(), dtype=float32, numpy=96.88>,\n",
       "   <tf.Tensor: id=14440, shape=(), dtype=float32, numpy=97.79>,\n",
       "   <tf.Tensor: id=18922, shape=(), dtype=float32, numpy=97.71>,\n",
       "   <tf.Tensor: id=23404, shape=(), dtype=float32, numpy=97.6>]},\n",
       " 'weight': {'losses': [], 'accuracies': []},\n",
       " 'unit': {'losses': [], 'accuracies': []}}"
      ]
     },
     "execution_count": 8,
     "metadata": {},
     "output_type": "execute_result"
    }
   ],
   "source": [
    "trainer.metrics"
   ]
  },
  {
   "cell_type": "markdown",
   "metadata": {},
   "source": [
    "## Pruning"
   ]
  },
  {
   "cell_type": "code",
   "execution_count": 9,
   "metadata": {
    "scrolled": true
   },
   "outputs": [
    {
     "name": "stdout",
     "output_type": "stream",
     "text": [
      "\u001b[32m [   290.02056s,  INFO] Restored from /tmp/kay/models/kaypruning/mnist/ckpt-5 \u001b[0m\n",
      "\u001b[32m [   290.02079s,  INFO] weight pruning: 0.0% \u001b[0m\n",
      "\u001b[32m [   292.63612s,  INFO] Test Loss: 0.10054562985897064, Test Accuracy: 97.5999984741211 %\n",
      "\n",
      " \u001b[0m\n",
      "\u001b[32m [   292.71793s,  INFO] Restored from /tmp/kay/models/kaypruning/mnist/ckpt-5 \u001b[0m\n",
      "\u001b[32m [   292.71813s,  INFO] weight pruning: 25.0% \u001b[0m\n",
      "\u001b[32m [   295.03994s,  INFO] Test Loss: 0.09824094921350479, Test Accuracy: 97.68000030517578 %\n",
      "\n",
      " \u001b[0m\n",
      "\u001b[32m [   295.08278s,  INFO] Restored from /tmp/kay/models/kaypruning/mnist/ckpt-5 \u001b[0m\n",
      "\u001b[32m [   295.08345s,  INFO] weight pruning: 50.0% \u001b[0m\n",
      "\u001b[32m [   297.43592s,  INFO] Test Loss: 0.09399184584617615, Test Accuracy: 97.68000030517578 %\n",
      "\n",
      " \u001b[0m\n",
      "\u001b[32m [   297.51224s,  INFO] Restored from /tmp/kay/models/kaypruning/mnist/ckpt-5 \u001b[0m\n",
      "\u001b[32m [   297.51244s,  INFO] weight pruning: 60.0% \u001b[0m\n",
      "\u001b[32m [   299.65630s,  INFO] Test Loss: 0.09372875839471817, Test Accuracy: 97.69999694824219 %\n",
      "\n",
      " \u001b[0m\n",
      "\u001b[32m [   299.71597s,  INFO] Restored from /tmp/kay/models/kaypruning/mnist/ckpt-5 \u001b[0m\n",
      "\u001b[32m [   299.71614s,  INFO] weight pruning: 70.0% \u001b[0m\n",
      "\u001b[32m [   302.60414s,  INFO] Test Loss: 0.11001192033290863, Test Accuracy: 97.45999908447266 %\n",
      "\n",
      " \u001b[0m\n",
      "\u001b[32m [   302.65579s,  INFO] Restored from /tmp/kay/models/kaypruning/mnist/ckpt-5 \u001b[0m\n",
      "\u001b[32m [   302.65594s,  INFO] weight pruning: 80.0% \u001b[0m\n",
      "\u001b[32m [   307.08595s,  INFO] Test Loss: 0.22443528473377228, Test Accuracy: 97.18000030517578 %\n",
      "\n",
      " \u001b[0m\n",
      "\u001b[32m [   307.37404s,  INFO] Restored from /tmp/kay/models/kaypruning/mnist/ckpt-5 \u001b[0m\n",
      "\u001b[32m [   307.38060s,  INFO] weight pruning: 90.0% \u001b[0m\n",
      "\u001b[32m [   311.09790s,  INFO] Test Loss: 1.028024435043335, Test Accuracy: 95.30000305175781 %\n",
      "\n",
      " \u001b[0m\n",
      "\u001b[32m [   311.15632s,  INFO] Restored from /tmp/kay/models/kaypruning/mnist/ckpt-5 \u001b[0m\n",
      "\u001b[32m [   311.15738s,  INFO] weight pruning: 95.0% \u001b[0m\n",
      "\u001b[32m [   313.98129s,  INFO] Test Loss: 1.8968229293823242, Test Accuracy: 85.75 %\n",
      "\n",
      " \u001b[0m\n",
      "\u001b[32m [   314.03243s,  INFO] Restored from /tmp/kay/models/kaypruning/mnist/ckpt-5 \u001b[0m\n",
      "\u001b[32m [   314.03265s,  INFO] weight pruning: 97.0% \u001b[0m\n",
      "\u001b[32m [   318.32673s,  INFO] Test Loss: 2.179081678390503, Test Accuracy: 64.2300033569336 %\n",
      "\n",
      " \u001b[0m\n",
      "\u001b[32m [   318.37789s,  INFO] Restored from /tmp/kay/models/kaypruning/mnist/ckpt-5 \u001b[0m\n",
      "\u001b[32m [   318.37804s,  INFO] weight pruning: 99.0% \u001b[0m\n",
      "\u001b[32m [   321.02786s,  INFO] Test Loss: 2.298588991165161, Test Accuracy: 20.3700008392334 %\n",
      "\n",
      " \u001b[0m\n",
      "\u001b[32m [   321.07890s,  INFO] Restored from /tmp/kay/models/kaypruning/mnist/ckpt-5 \u001b[0m\n",
      "\u001b[32m [   321.07903s,  INFO] unit pruning: 0.0% \u001b[0m\n",
      "\u001b[32m [   324.04813s,  INFO] Test Loss: 0.10054562985897064, Test Accuracy: 97.5999984741211 %\n",
      "\n",
      " \u001b[0m\n",
      "\u001b[32m [   324.32097s,  INFO] Restored from /tmp/kay/models/kaypruning/mnist/ckpt-5 \u001b[0m\n",
      "\u001b[32m [   324.32453s,  INFO] unit pruning: 25.0% \u001b[0m\n",
      "\u001b[32m [   328.25128s,  INFO] Test Loss: 0.09774952381849289, Test Accuracy: 97.56999969482422 %\n",
      "\n",
      " \u001b[0m\n",
      "\u001b[32m [   328.32718s,  INFO] Restored from /tmp/kay/models/kaypruning/mnist/ckpt-5 \u001b[0m\n",
      "\u001b[32m [   328.32756s,  INFO] unit pruning: 50.0% \u001b[0m\n",
      "\u001b[32m [   332.27182s,  INFO] Test Loss: 0.09515103697776794, Test Accuracy: 97.61000061035156 %\n",
      "\n",
      " \u001b[0m\n",
      "\u001b[32m [   332.33594s,  INFO] Restored from /tmp/kay/models/kaypruning/mnist/ckpt-5 \u001b[0m\n",
      "\u001b[32m [   332.33615s,  INFO] unit pruning: 60.0% \u001b[0m\n",
      "\u001b[32m [   334.52479s,  INFO] Test Loss: 0.1527804285287857, Test Accuracy: 97.12999725341797 %\n",
      "\n",
      " \u001b[0m\n",
      "\u001b[32m [   334.57387s,  INFO] Restored from /tmp/kay/models/kaypruning/mnist/ckpt-5 \u001b[0m\n",
      "\u001b[32m [   334.57399s,  INFO] unit pruning: 70.0% \u001b[0m\n",
      "\u001b[32m [   338.20205s,  INFO] Test Loss: 0.38164854049682617, Test Accuracy: 95.80000305175781 %\n",
      "\n",
      " \u001b[0m\n",
      "\u001b[32m [   338.29444s,  INFO] Restored from /tmp/kay/models/kaypruning/mnist/ckpt-5 \u001b[0m\n",
      "\u001b[32m [   338.29458s,  INFO] unit pruning: 80.0% \u001b[0m\n",
      "\u001b[32m [   340.78622s,  INFO] Test Loss: 1.3971105813980103, Test Accuracy: 82.77999877929688 %\n",
      "\n",
      " \u001b[0m\n",
      "\u001b[32m [   340.83318s,  INFO] Restored from /tmp/kay/models/kaypruning/mnist/ckpt-5 \u001b[0m\n",
      "\u001b[32m [   340.83388s,  INFO] unit pruning: 90.0% \u001b[0m\n",
      "\u001b[32m [   342.72352s,  INFO] Test Loss: 2.170926809310913, Test Accuracy: 38.78000259399414 %\n",
      "\n",
      " \u001b[0m\n",
      "\u001b[32m [   342.77118s,  INFO] Restored from /tmp/kay/models/kaypruning/mnist/ckpt-5 \u001b[0m\n",
      "\u001b[32m [   342.77145s,  INFO] unit pruning: 95.0% \u001b[0m\n",
      "\u001b[32m [   345.54989s,  INFO] Test Loss: 2.2954983711242676, Test Accuracy: 21.559999465942383 %\n",
      "\n",
      " \u001b[0m\n",
      "\u001b[32m [   345.61267s,  INFO] Restored from /tmp/kay/models/kaypruning/mnist/ckpt-5 \u001b[0m\n",
      "\u001b[32m [   345.61320s,  INFO] unit pruning: 97.0% \u001b[0m\n",
      "\u001b[32m [   349.21863s,  INFO] Test Loss: 2.2998905181884766, Test Accuracy: 17.09000015258789 %\n",
      "\n",
      " \u001b[0m\n",
      "\u001b[32m [   349.28286s,  INFO] Restored from /tmp/kay/models/kaypruning/mnist/ckpt-5 \u001b[0m\n",
      "\u001b[32m [   349.28449s,  INFO] unit pruning: 99.0% \u001b[0m\n",
      "\u001b[32m [   352.13075s,  INFO] Test Loss: 2.3025810718536377, Test Accuracy: 8.75 %\n",
      "\n",
      " \u001b[0m\n"
     ]
    }
   ],
   "source": [
    "trainer.run_pruning()"
   ]
  },
  {
   "cell_type": "code",
   "execution_count": 10,
   "metadata": {},
   "outputs": [
    {
     "name": "stdout",
     "output_type": "stream",
     "text": [
      "\u001b[32m [   352.29497s,  INFO] (0) Sparsity (k): 0.0% => Weight Loss: 0.10054562985897064, Weight Accuracy: 97.5999984741211% Unit Loss: 0.10054562985897064, Unit Accuracy: 97.5999984741211% \u001b[0m\n",
      "\u001b[32m [   352.29667s,  INFO] (1) Sparsity (k): 25.0% => Weight Loss: 0.09824094921350479, Weight Accuracy: 97.68000030517578% Unit Loss: 0.09774952381849289, Unit Accuracy: 97.56999969482422% \u001b[0m\n",
      "\u001b[32m [   352.29686s,  INFO] (2) Sparsity (k): 50.0% => Weight Loss: 0.09399184584617615, Weight Accuracy: 97.68000030517578% Unit Loss: 0.09515103697776794, Unit Accuracy: 97.61000061035156% \u001b[0m\n",
      "\u001b[32m [   352.29900s,  INFO] (3) Sparsity (k): 60.0% => Weight Loss: 0.09372875839471817, Weight Accuracy: 97.69999694824219% Unit Loss: 0.1527804285287857, Unit Accuracy: 97.12999725341797% \u001b[0m\n",
      "\u001b[32m [   352.29998s,  INFO] (4) Sparsity (k): 70.0% => Weight Loss: 0.11001192033290863, Weight Accuracy: 97.45999908447266% Unit Loss: 0.38164854049682617, Unit Accuracy: 95.80000305175781% \u001b[0m\n",
      "\u001b[32m [   352.30021s,  INFO] (5) Sparsity (k): 80.0% => Weight Loss: 0.22443528473377228, Weight Accuracy: 97.18000030517578% Unit Loss: 1.3971105813980103, Unit Accuracy: 82.77999877929688% \u001b[0m\n",
      "\u001b[32m [   352.30038s,  INFO] (6) Sparsity (k): 90.0% => Weight Loss: 1.028024435043335, Weight Accuracy: 95.30000305175781% Unit Loss: 2.170926809310913, Unit Accuracy: 38.78000259399414% \u001b[0m\n",
      "\u001b[32m [   352.30226s,  INFO] (7) Sparsity (k): 95.0% => Weight Loss: 1.8968229293823242, Weight Accuracy: 85.75% Unit Loss: 2.2954983711242676, Unit Accuracy: 21.559999465942383% \u001b[0m\n",
      "\u001b[32m [   352.30248s,  INFO] (8) Sparsity (k): 97.0% => Weight Loss: 2.179081678390503, Weight Accuracy: 64.2300033569336% Unit Loss: 2.2998905181884766, Unit Accuracy: 17.09000015258789% \u001b[0m\n",
      "\u001b[32m [   352.30265s,  INFO] (9) Sparsity (k): 99.0% => Weight Loss: 2.298588991165161, Weight Accuracy: 20.3700008392334% Unit Loss: 2.3025810718536377, Unit Accuracy: 8.75% \u001b[0m\n"
     ]
    }
   ],
   "source": [
    "trainer.print_metrics()"
   ]
  },
  {
   "cell_type": "code",
   "execution_count": 11,
   "metadata": {},
   "outputs": [],
   "source": [
    "w_loss, w_acc, u_loss, u_acc = trainer.get_metrics()\n",
    "# w_loss, w_acc, u_loss, u_acc"
   ]
  },
  {
   "cell_type": "code",
   "execution_count": 12,
   "metadata": {},
   "outputs": [
    {
     "data": {
      "image/png": "[encoded data removed]",
      "text/plain": [
       "<Figure size 432x288 with 1 Axes>"
      ]
     },
     "metadata": {
      "needs_background": "light"
     },
     "output_type": "display_data"
    }
   ],
   "source": [
    "plot(y=w_loss, prune_type='Weight', type='Loss')"
   ]
  },
  {
   "cell_type": "code",
   "execution_count": 13,
   "metadata": {},
   "outputs": [
    {
     "data": {
      "image/png": "[encoded data removed]",
      "text/plain": [
       "<Figure size 432x288 with 1 Axes>"
      ]
     },
     "metadata": {
      "needs_background": "light"
     },
     "output_type": "display_data"
    }
   ],
   "source": [
    "plot(y=w_acc, prune_type='Weight', type='Accuracy')"
   ]
  },
  {
   "cell_type": "code",
   "execution_count": 14,
   "metadata": {},
   "outputs": [
    {
     "data": {
      "image/png": "[encoded data removed]",
      "text/plain": [
       "<Figure size 432x288 with 1 Axes>"
      ]
     },
     "metadata": {
      "needs_background": "light"
     },
     "output_type": "display_data"
    }
   ],
   "source": [
    "plot(y=u_loss, prune_type='Unit', type='Loss')"
   ]
  },
  {
   "cell_type": "code",
   "execution_count": 15,
   "metadata": {},
   "outputs": [
    {
     "data": {
      "image/png": "[encoded data removed]",
      "text/plain": [
       "<Figure size 432x288 with 1 Axes>"
      ]
     },
     "metadata": {
      "needs_background": "light"
     },
     "output_type": "display_data"
    }
   ],
   "source": [
    "plot(y=u_acc, prune_type='Unit', type='Accuracy')"
   ]
  },
  {
   "cell_type": "markdown",
   "metadata": {},
   "source": [
    "#### Two Pruning Methods"
   ]
  },
  {
   "cell_type": "code",
   "execution_count": 16,
   "metadata": {},
   "outputs": [
    {
     "data": {
      "image/png": "[encoded data removed]",
      "text/plain": [
       "<Figure size 432x288 with 1 Axes>"
      ]
     },
     "metadata": {
      "needs_background": "light"
     },
     "output_type": "display_data"
    }
   ],
   "source": [
    "plt.plot(prune_configs.k, w_acc, label = \"Weight Pruning\") \n",
    "plt.plot(prune_configs.k, u_acc, label = \"Unit Pruning\") \n",
    "  \n",
    "plt.xlabel('Sparsity (%)') \n",
    "plt.ylabel('Test Accuracy') \n",
    "plt.title('Pruning') \n",
    "  \n",
    "\n",
    "plt.legend() \n",
    "plt.show()"
   ]
  },
  {
   "cell_type": "code",
   "execution_count": 17,
   "metadata": {},
   "outputs": [
    {
     "data": {
      "text/html": [
       "<div>\n",
       "<style scoped>\n",
       "    .dataframe tbody tr th:only-of-type {\n",
       "        vertical-align: middle;\n",
       "    }\n",
       "\n",
       "    .dataframe tbody tr th {\n",
       "        vertical-align: top;\n",
       "    }\n",
       "\n",
       "    .dataframe thead th {\n",
       "        text-align: right;\n",
       "    }\n",
       "</style>\n",
       "<table border=\"1\" class=\"dataframe\">\n",
       "  <thead>\n",
       "    <tr style=\"text-align: right;\">\n",
       "      <th></th>\n",
       "      <th>Percent Sparsity</th>\n",
       "      <th>Test Accuracy (Weight Pruning)</th>\n",
       "      <th>Test Accuracy (Unit Pruning)</th>\n",
       "    </tr>\n",
       "  </thead>\n",
       "  <tbody>\n",
       "    <tr>\n",
       "      <td>0</td>\n",
       "      <td>0.0</td>\n",
       "      <td>tf.Tensor(97.6, shape=(), dtype=float32)</td>\n",
       "      <td>tf.Tensor(97.6, shape=(), dtype=float32)</td>\n",
       "    </tr>\n",
       "    <tr>\n",
       "      <td>1</td>\n",
       "      <td>25.0</td>\n",
       "      <td>tf.Tensor(97.68, shape=(), dtype=float32)</td>\n",
       "      <td>tf.Tensor(97.57, shape=(), dtype=float32)</td>\n",
       "    </tr>\n",
       "    <tr>\n",
       "      <td>2</td>\n",
       "      <td>50.0</td>\n",
       "      <td>tf.Tensor(97.68, shape=(), dtype=float32)</td>\n",
       "      <td>tf.Tensor(97.61, shape=(), dtype=float32)</td>\n",
       "    </tr>\n",
       "    <tr>\n",
       "      <td>3</td>\n",
       "      <td>60.0</td>\n",
       "      <td>tf.Tensor(97.7, shape=(), dtype=float32)</td>\n",
       "      <td>tf.Tensor(97.13, shape=(), dtype=float32)</td>\n",
       "    </tr>\n",
       "    <tr>\n",
       "      <td>4</td>\n",
       "      <td>70.0</td>\n",
       "      <td>tf.Tensor(97.46, shape=(), dtype=float32)</td>\n",
       "      <td>tf.Tensor(95.8, shape=(), dtype=float32)</td>\n",
       "    </tr>\n",
       "    <tr>\n",
       "      <td>5</td>\n",
       "      <td>80.0</td>\n",
       "      <td>tf.Tensor(97.18, shape=(), dtype=float32)</td>\n",
       "      <td>tf.Tensor(82.78, shape=(), dtype=float32)</td>\n",
       "    </tr>\n",
       "    <tr>\n",
       "      <td>6</td>\n",
       "      <td>90.0</td>\n",
       "      <td>tf.Tensor(95.3, shape=(), dtype=float32)</td>\n",
       "      <td>tf.Tensor(38.780003, shape=(), dtype=float32)</td>\n",
       "    </tr>\n",
       "    <tr>\n",
       "      <td>7</td>\n",
       "      <td>95.0</td>\n",
       "      <td>tf.Tensor(85.75, shape=(), dtype=float32)</td>\n",
       "      <td>tf.Tensor(21.56, shape=(), dtype=float32)</td>\n",
       "    </tr>\n",
       "    <tr>\n",
       "      <td>8</td>\n",
       "      <td>97.0</td>\n",
       "      <td>tf.Tensor(64.23, shape=(), dtype=float32)</td>\n",
       "      <td>tf.Tensor(17.09, shape=(), dtype=float32)</td>\n",
       "    </tr>\n",
       "    <tr>\n",
       "      <td>9</td>\n",
       "      <td>99.0</td>\n",
       "      <td>tf.Tensor(20.37, shape=(), dtype=float32)</td>\n",
       "      <td>tf.Tensor(8.75, shape=(), dtype=float32)</td>\n",
       "    </tr>\n",
       "  </tbody>\n",
       "</table>\n",
       "</div>"
      ],
      "text/plain": [
       "   Percent Sparsity             Test Accuracy (Weight Pruning)  \\\n",
       "0               0.0   tf.Tensor(97.6, shape=(), dtype=float32)   \n",
       "1              25.0  tf.Tensor(97.68, shape=(), dtype=float32)   \n",
       "2              50.0  tf.Tensor(97.68, shape=(), dtype=float32)   \n",
       "3              60.0   tf.Tensor(97.7, shape=(), dtype=float32)   \n",
       "4              70.0  tf.Tensor(97.46, shape=(), dtype=float32)   \n",
       "5              80.0  tf.Tensor(97.18, shape=(), dtype=float32)   \n",
       "6              90.0   tf.Tensor(95.3, shape=(), dtype=float32)   \n",
       "7              95.0  tf.Tensor(85.75, shape=(), dtype=float32)   \n",
       "8              97.0  tf.Tensor(64.23, shape=(), dtype=float32)   \n",
       "9              99.0  tf.Tensor(20.37, shape=(), dtype=float32)   \n",
       "\n",
       "                    Test Accuracy (Unit Pruning)  \n",
       "0       tf.Tensor(97.6, shape=(), dtype=float32)  \n",
       "1      tf.Tensor(97.57, shape=(), dtype=float32)  \n",
       "2      tf.Tensor(97.61, shape=(), dtype=float32)  \n",
       "3      tf.Tensor(97.13, shape=(), dtype=float32)  \n",
       "4       tf.Tensor(95.8, shape=(), dtype=float32)  \n",
       "5      tf.Tensor(82.78, shape=(), dtype=float32)  \n",
       "6  tf.Tensor(38.780003, shape=(), dtype=float32)  \n",
       "7      tf.Tensor(21.56, shape=(), dtype=float32)  \n",
       "8      tf.Tensor(17.09, shape=(), dtype=float32)  \n",
       "9       tf.Tensor(8.75, shape=(), dtype=float32)  "
      ]
     },
     "execution_count": 17,
     "metadata": {},
     "output_type": "execute_result"
    }
   ],
   "source": [
    "pd.DataFrame(data={\n",
    "    'Percent Sparsity': list(map(lambda k: k * 100, prune_configs.k)),\n",
    "    'Test Accuracy (Weight Pruning)': w_acc,\n",
    "    'Test Accuracy (Unit Pruning)': u_acc,    \n",
    "})"
   ]
  },
  {
   "cell_type": "markdown",
   "metadata": {},
   "source": [
    "# Analysis"
   ]
  },
  {
   "cell_type": "markdown",
   "metadata": {},
   "source": [
    "### What interesting insights did you find? \n",
    "> Pruning Neural Networks till 60% have a little impact on the model performance. After that, pruning with higher k values have a huge impact on performance. Comparing the two pruning methods, I found the performance is better when using Weight pruning compared to the Unit pruning. \n",
    "\n",
    "> In Unit pruning, starting from (70%), there is a big decrease in the performance. Whereas in Weight Pruning, this happens 95% and 99% sparsity. Both pruning methods perform very badly at 99% sparsity!"
   ]
  },
  {
   "cell_type": "markdown",
   "metadata": {},
   "source": [
    "### Do the curves differ?\n",
    "> Both curves are approximately similar till 60% sparsity. \n",
    "This is a serious declining for\n",
    "    * Unit pruning: between 70-99% \n",
    "    * Weight pruning: between 95-99%"
   ]
  },
  {
   "cell_type": "markdown",
   "metadata": {},
   "source": [
    "### Why do you think that is/isn’t? \n",
    "> I think unit pruning is a little aggressive and have a higher impact since we eliminate entire columns in the weight matrix which might have good connections and affect the overall performance. \n",
    "\n",
    "> This is not the case for weight pruning as we are getting rid of the weights that have the least impact on the model and are not contributing that much for the model. Also, since they are randomly deleted from different layers according to their absolute value this might have less correlation between them."
   ]
  },
  {
   "cell_type": "markdown",
   "metadata": {},
   "source": [
    "### Do you have any hypotheses as to why we are able to delete so much of the network without hurting performance (this is an open research question)?\n",
    "> This is because we have a very large network with so many neurons for a simple task (classifying MNIST || Fashion-MNIST). Hence, pruning with slightly large percentage can still save the same performance or doesn't hurt the performance so much."
   ]
  }
 ],
 "metadata": {
  "kernelspec": {
   "display_name": "Python 3",
   "language": "python",
   "name": "python3"
  },
  "language_info": {
   "codemirror_mode": {
    "name": "ipython",
    "version": 3
   },
   "file_extension": ".py",
   "mimetype": "text/x-python",
   "name": "python",
   "nbconvert_exporter": "python",
   "pygments_lexer": "ipython3",
   "version": "3.7.4"
  }
 },
 "nbformat": 4,
 "nbformat_minor": 2
}
