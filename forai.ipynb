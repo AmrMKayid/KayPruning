{
 "cells": [
  {
   "cell_type": "markdown",
   "metadata": {
    "colab_type": "text",
    "id": "view-in-github"
   },
   "source": [
    "<a href=\"https://colab.research.google.com/github/AmrMKayid/KayPruning/blob/master/forai.ipynb\" target=\"_parent\"><img src=\"https://colab.research.google.com/assets/colab-badge.svg\" alt=\"Open In Colab\"/></a>"
   ]
  },
  {
   "cell_type": "markdown",
   "metadata": {
    "colab_type": "text",
    "id": "h9HdH1Y6eVGa"
   },
   "source": [
    "# FOR.ai: Let's Prune Neural Network!\n",
    "\n",
    "---"
   ]
  },
  {
   "cell_type": "code",
   "execution_count": 1,
   "metadata": {
    "colab": {},
    "colab_type": "code",
    "id": "1N_PFCzyeVGk"
   },
   "outputs": [],
   "source": [
    "%reload_ext autoreload\n",
    "%autoreload 2\n",
    "%matplotlib inline"
   ]
  },
  {
   "cell_type": "code",
   "execution_count": 2,
   "metadata": {
    "colab": {},
    "colab_type": "code",
    "id": "uoLT9a2KeVGw"
   },
   "outputs": [],
   "source": [
    "import pandas as pd"
   ]
  },
  {
   "cell_type": "code",
   "execution_count": 3,
   "metadata": {
    "colab": {},
    "colab_type": "code",
    "id": "bQt4-3xheVG2"
   },
   "outputs": [],
   "source": [
    "from kaypruning.data import DataBunch\n",
    "from kaypruning.models import *\n",
    "from kaypruning.trainer import Trainer\n",
    "from kaypruning.utils import *"
   ]
  },
  {
   "cell_type": "code",
   "execution_count": 4,
   "metadata": {
    "colab": {},
    "colab_type": "code",
    "id": "-spYqK7ueVG5",
    "outputId": "a3d1c220-220d-48e3-c530-c4226482e2ee"
   },
   "outputs": [
    {
     "name": "stderr",
     "output_type": "stream",
     "text": [
      "WARNING:absl:Warning: Setting shuffle_files=True because split=TRAIN and shuffle_files=None. This behavior will be deprecated on 2019-08-06, at which point shuffle_files=False will be the default for all splits.\n"
     ]
    },
    {
     "name": "stdout",
     "output_type": "stream",
     "text": [
      "\u001b[32m [     7.24676s,  INFO] DataBunch:\n",
      "- name = mnist\n",
      "- train = <CacheDataset shapes: ((784,), ()), types: (tf.float32, tf.int64)>\n",
      "- test = <CacheDataset shapes: ((784,), ()), types: (tf.float32, tf.int64)>\n",
      "- batch = 32\n",
      "\n",
      " \u001b[0m\n"
     ]
    }
   ],
   "source": [
    "db = DataBunch('mnist') # Fashion-MNIST: DataBunch('fashion_mnist')"
   ]
  },
  {
   "cell_type": "code",
   "execution_count": 5,
   "metadata": {
    "colab": {},
    "colab_type": "code",
    "id": "THW_BB30eVHK",
    "outputId": "4068e430-4ea3-494a-f1a8-f9741f7715b9"
   },
   "outputs": [
    {
     "name": "stdout",
     "output_type": "stream",
     "text": [
      "\u001b[32m [    10.73299s,  INFO] BaseModel:\n",
      "- supports_masking = False\n",
      "- optimizer = None\n",
      "- outputs = []\n",
      "- inputs = []\n",
      "- built = False\n",
      "- layer_1 = <kaypruning.models.base.BaseLayer object at 0x135e37110>\n",
      "- layer_2 = <kaypruning.models.base.BaseLayer object at 0x135694490>\n",
      "- layer_3 = <kaypruning.models.base.BaseLayer object at 0x1047346d0>\n",
      "- layer_4 = <kaypruning.models.base.BaseLayer object at 0x135e37d50>\n",
      "- classifier = <kaypruning.models.base.BaseLayer object at 0x135e37350>\n",
      "\n",
      " \u001b[0m\n"
     ]
    }
   ],
   "source": [
    "model = get_model('BaseModel')  # For Keras Model: get_model('KerasModel')"
   ]
  },
  {
   "cell_type": "code",
   "execution_count": 6,
   "metadata": {
    "colab": {},
    "colab_type": "code",
    "id": "mvlgmliJeVHY",
    "outputId": "ac4165dd-7e05-48fa-de1e-45aa705a3a80"
   },
   "outputs": [
    {
     "name": "stdout",
     "output_type": "stream",
     "text": [
      "\u001b[32m [    12.36234s,  INFO] Trainer:\n",
      "- model = <kaypruning.models.base.BaseModel object at 0x135e37950>\n",
      "- db = <kaypruning.data.base.DataBunch object at 0x135a43390>\n",
      "- epochs = 5\n",
      "- path = /tmp/kay/models/kaypruning/mnist\n",
      "- loss_object = <tensorflow.python.keras.losses.SparseCategoricalCrossentropy object at 0x135e22ad0>\n",
      "- optimizer = <tensorflow.python.keras.optimizer_v2.adam.Adam object at 0x135e22610>\n",
      "- train_loss = <tensorflow.python.keras.metrics.Mean object at 0x135e22050>\n",
      "- train_accuracy = <tensorflow.python.keras.metrics.SparseCategoricalAccuracy object at 0x135e22e10>\n",
      "- test_loss = <tensorflow.python.keras.metrics.Mean object at 0x135e19ad0>\n",
      "- test_accuracy = <tensorflow.python.keras.metrics.SparseCategoricalAccuracy object at 0x135b85f10>\n",
      "- ckpt = <tensorflow.python.training.tracking.util.Checkpoint object at 0x135bb1cd0>\n",
      "- manager = <tensorflow.python.training.checkpoint_management.CheckpointManager object at 0x135e4f410>\n",
      "- metrics = {'train': {'losses': [], 'accuracies': []}, 'test': {'losses': [], 'accuracies': []}, 'weight': {'losses': [], 'accuracies': []}, 'unit': {'losses': [], 'accuracies': []}}\n",
      "\n",
      " \u001b[0m\n",
      "\u001b[32m [    12.36551s,  INFO] Initializing from scratch. \u001b[0m\n"
     ]
    }
   ],
   "source": [
    "trainer = Trainer(model=model, db=db)"
   ]
  },
  {
   "cell_type": "markdown",
   "metadata": {
    "colab_type": "text",
    "id": "0MijOyYaeVHj"
   },
   "source": [
    "## Training"
   ]
  },
  {
   "cell_type": "code",
   "execution_count": 7,
   "metadata": {
    "colab": {},
    "colab_type": "code",
    "id": "UA0eNVQCeVHm",
    "outputId": "c672214f-c0e4-42a8-842e-7e8886599657",
    "scrolled": true
   },
   "outputs": [
    {
     "name": "stdout",
     "output_type": "stream",
     "text": [
      "\u001b[32m [    89.54943s,  INFO] Epoch 1: (Train Loss: 0.2034536749124527, Accuracy: 94.02166748046875%, Test Loss: 0.14904215931892395, Test Accuracy: 95.45999908447266%) \u001b[0m\n",
      "\u001b[32m [    89.71373s,  INFO] Saved checkpoint for epoch 1: /tmp/kay/models/kaypruning/mnist/ckpt-1 \u001b[0m\n",
      "\u001b[32m [   135.59924s,  INFO] Epoch 2: (Train Loss: 0.10196620970964432, Accuracy: 97.0133285522461%, Test Loss: 0.09176518768072128, Test Accuracy: 97.43000030517578%) \u001b[0m\n",
      "\u001b[32m [   135.74225s,  INFO] Saved checkpoint for epoch 2: /tmp/kay/models/kaypruning/mnist/ckpt-2 \u001b[0m\n",
      "\u001b[32m [   182.03852s,  INFO] Epoch 3: (Train Loss: 0.07111632823944092, Accuracy: 97.9183349609375%, Test Loss: 0.11594527214765549, Test Accuracy: 96.91999816894531%) \u001b[0m\n",
      "\u001b[32m [   182.21670s,  INFO] Saved checkpoint for epoch 3: /tmp/kay/models/kaypruning/mnist/ckpt-3 \u001b[0m\n",
      "\u001b[32m [   234.56973s,  INFO] Epoch 4: (Train Loss: 0.059780266135931015, Accuracy: 98.33499908447266%, Test Loss: 0.10568337142467499, Test Accuracy: 97.37999725341797%) \u001b[0m\n",
      "\u001b[32m [   234.75062s,  INFO] Saved checkpoint for epoch 4: /tmp/kay/models/kaypruning/mnist/ckpt-4 \u001b[0m\n",
      "\u001b[32m [   285.51821s,  INFO] Epoch 5: (Train Loss: 0.05184966325759888, Accuracy: 98.52667236328125%, Test Loss: 0.11177998036146164, Test Accuracy: 97.31999969482422%) \u001b[0m\n",
      "\u001b[32m [   285.68387s,  INFO] Saved checkpoint for epoch 5: /tmp/kay/models/kaypruning/mnist/ckpt-5 \u001b[0m\n"
     ]
    }
   ],
   "source": [
    "trainer.run()"
   ]
  },
  {
   "cell_type": "code",
   "execution_count": 8,
   "metadata": {
    "colab": {},
    "colab_type": "code",
    "id": "wcqrg37eeVHv",
    "outputId": "bd8d2008-75b8-4539-a5d6-739ca491c006"
   },
   "outputs": [
    {
     "data": {
      "text/plain": [
       "{'train': {'losses': [<tf.Tensor: id=5461, shape=(), dtype=float32, numpy=0.20345367>,\n",
       "   <tf.Tensor: id=9943, shape=(), dtype=float32, numpy=0.10196621>,\n",
       "   <tf.Tensor: id=14425, shape=(), dtype=float32, numpy=0.07111633>,\n",
       "   <tf.Tensor: id=18907, shape=(), dtype=float32, numpy=0.059780266>,\n",
       "   <tf.Tensor: id=23389, shape=(), dtype=float32, numpy=0.051849663>],\n",
       "  'accuracies': [<tf.Tensor: id=5466, shape=(), dtype=float32, numpy=94.02167>,\n",
       "   <tf.Tensor: id=9948, shape=(), dtype=float32, numpy=97.01333>,\n",
       "   <tf.Tensor: id=14430, shape=(), dtype=float32, numpy=97.918335>,\n",
       "   <tf.Tensor: id=18912, shape=(), dtype=float32, numpy=98.335>,\n",
       "   <tf.Tensor: id=23394, shape=(), dtype=float32, numpy=98.52667>]},\n",
       " 'test': {'losses': [<tf.Tensor: id=5469, shape=(), dtype=float32, numpy=0.14904216>,\n",
       "   <tf.Tensor: id=9951, shape=(), dtype=float32, numpy=0.09176519>,\n",
       "   <tf.Tensor: id=14433, shape=(), dtype=float32, numpy=0.11594527>,\n",
       "   <tf.Tensor: id=18915, shape=(), dtype=float32, numpy=0.10568337>,\n",
       "   <tf.Tensor: id=23397, shape=(), dtype=float32, numpy=0.11177998>],\n",
       "  'accuracies': [<tf.Tensor: id=5474, shape=(), dtype=float32, numpy=95.46>,\n",
       "   <tf.Tensor: id=9956, shape=(), dtype=float32, numpy=97.43>,\n",
       "   <tf.Tensor: id=14438, shape=(), dtype=float32, numpy=96.92>,\n",
       "   <tf.Tensor: id=18920, shape=(), dtype=float32, numpy=97.38>,\n",
       "   <tf.Tensor: id=23402, shape=(), dtype=float32, numpy=97.32>]},\n",
       " 'weight': {'losses': [], 'accuracies': []},\n",
       " 'unit': {'losses': [], 'accuracies': []}}"
      ]
     },
     "execution_count": 8,
     "metadata": {},
     "output_type": "execute_result"
    }
   ],
   "source": [
    "trainer.metrics"
   ]
  },
  {
   "cell_type": "markdown",
   "metadata": {
    "colab_type": "text",
    "id": "3xDyNMlMeVH0"
   },
   "source": [
    "## Pruning"
   ]
  },
  {
   "cell_type": "code",
   "execution_count": 9,
   "metadata": {
    "colab": {},
    "colab_type": "code",
    "id": "XSViVQhzeVH3",
    "outputId": "803aceba-1ec7-41f7-a1d6-30c46c811e39",
    "scrolled": true
   },
   "outputs": [
    {
     "name": "stdout",
     "output_type": "stream",
     "text": [
      "\u001b[32m [   361.84473s,  INFO] Restored from /tmp/kay/models/kaypruning/mnist/ckpt-5 \u001b[0m\n",
      "\u001b[32m [   361.84498s,  INFO] weight pruning: 0.0% \u001b[0m\n",
      "\u001b[32m [   364.77558s,  INFO] Test Loss: 0.11177998036146164, Test Accuracy: 97.31999969482422 %\n",
      "\n",
      " \u001b[0m\n",
      "\u001b[32m [   364.87776s,  INFO] Restored from /tmp/kay/models/kaypruning/mnist/ckpt-5 \u001b[0m\n",
      "\u001b[32m [   364.87838s,  INFO] weight pruning: 25.0% \u001b[0m\n",
      "\u001b[32m [   367.24439s,  INFO] Test Loss: 0.10894376784563065, Test Accuracy: 97.3699951171875 %\n",
      "\n",
      " \u001b[0m\n",
      "\u001b[32m [   367.29621s,  INFO] Restored from /tmp/kay/models/kaypruning/mnist/ckpt-5 \u001b[0m\n",
      "\u001b[32m [   367.29636s,  INFO] weight pruning: 50.0% \u001b[0m\n",
      "\u001b[32m [   369.78423s,  INFO] Test Loss: 0.0992799773812294, Test Accuracy: 97.45999908447266 %\n",
      "\n",
      " \u001b[0m\n",
      "\u001b[32m [   369.83761s,  INFO] Restored from /tmp/kay/models/kaypruning/mnist/ckpt-5 \u001b[0m\n",
      "\u001b[32m [   369.83776s,  INFO] weight pruning: 60.0% \u001b[0m\n",
      "\u001b[32m [   372.66724s,  INFO] Test Loss: 0.09414451569318771, Test Accuracy: 97.3699951171875 %\n",
      "\n",
      " \u001b[0m\n",
      "\u001b[32m [   372.72088s,  INFO] Restored from /tmp/kay/models/kaypruning/mnist/ckpt-5 \u001b[0m\n",
      "\u001b[32m [   372.72124s,  INFO] weight pruning: 70.0% \u001b[0m\n",
      "\u001b[32m [   375.87263s,  INFO] Test Loss: 0.10094326734542847, Test Accuracy: 97.43000030517578 %\n",
      "\n",
      " \u001b[0m\n",
      "\u001b[32m [   375.92114s,  INFO] Restored from /tmp/kay/models/kaypruning/mnist/ckpt-5 \u001b[0m\n",
      "\u001b[32m [   375.92189s,  INFO] weight pruning: 80.0% \u001b[0m\n",
      "\u001b[32m [   377.96613s,  INFO] Test Loss: 0.20109416544437408, Test Accuracy: 97.19999694824219 %\n",
      "\n",
      " \u001b[0m\n",
      "\u001b[32m [   378.01952s,  INFO] Restored from /tmp/kay/models/kaypruning/mnist/ckpt-5 \u001b[0m\n",
      "\u001b[32m [   378.01978s,  INFO] weight pruning: 90.0% \u001b[0m\n",
      "\u001b[32m [   380.13231s,  INFO] Test Loss: 1.0205215215682983, Test Accuracy: 91.77999877929688 %\n",
      "\n",
      " \u001b[0m\n",
      "\u001b[32m [   380.20564s,  INFO] Restored from /tmp/kay/models/kaypruning/mnist/ckpt-5 \u001b[0m\n",
      "\u001b[32m [   380.20586s,  INFO] weight pruning: 95.0% \u001b[0m\n",
      "\u001b[32m [   382.41598s,  INFO] Test Loss: 1.9457756280899048, Test Accuracy: 76.22000122070312 %\n",
      "\n",
      " \u001b[0m\n",
      "\u001b[32m [   382.47065s,  INFO] Restored from /tmp/kay/models/kaypruning/mnist/ckpt-5 \u001b[0m\n",
      "\u001b[32m [   382.47085s,  INFO] weight pruning: 97.0% \u001b[0m\n",
      "\u001b[32m [   384.46392s,  INFO] Test Loss: 2.1845741271972656, Test Accuracy: 54.380001068115234 %\n",
      "\n",
      " \u001b[0m\n",
      "\u001b[32m [   384.51897s,  INFO] Restored from /tmp/kay/models/kaypruning/mnist/ckpt-5 \u001b[0m\n",
      "\u001b[32m [   384.51920s,  INFO] weight pruning: 99.0% \u001b[0m\n",
      "\u001b[32m [   386.36719s,  INFO] Test Loss: 2.2965292930603027, Test Accuracy: 27.529998779296875 %\n",
      "\n",
      " \u001b[0m\n",
      "\u001b[32m [   386.41797s,  INFO] Restored from /tmp/kay/models/kaypruning/mnist/ckpt-5 \u001b[0m\n",
      "\u001b[32m [   386.41812s,  INFO] unit pruning: 0.0% \u001b[0m\n",
      "\u001b[32m [   388.07879s,  INFO] Test Loss: 0.11177998036146164, Test Accuracy: 97.31999969482422 %\n",
      "\n",
      " \u001b[0m\n",
      "\u001b[32m [   388.12422s,  INFO] Restored from /tmp/kay/models/kaypruning/mnist/ckpt-5 \u001b[0m\n",
      "\u001b[32m [   388.12438s,  INFO] unit pruning: 25.0% \u001b[0m\n",
      "\u001b[32m [   390.08024s,  INFO] Test Loss: 0.10792181640863419, Test Accuracy: 97.33000183105469 %\n",
      "\n",
      " \u001b[0m\n",
      "\u001b[32m [   390.12968s,  INFO] Restored from /tmp/kay/models/kaypruning/mnist/ckpt-5 \u001b[0m\n",
      "\u001b[32m [   390.12984s,  INFO] unit pruning: 50.0% \u001b[0m\n",
      "\u001b[32m [   392.14207s,  INFO] Test Loss: 0.10237825661897659, Test Accuracy: 97.1500015258789 %\n",
      "\n",
      " \u001b[0m\n",
      "\u001b[32m [   392.19532s,  INFO] Restored from /tmp/kay/models/kaypruning/mnist/ckpt-5 \u001b[0m\n",
      "\u001b[32m [   392.19551s,  INFO] unit pruning: 60.0% \u001b[0m\n",
      "\u001b[32m [   394.13634s,  INFO] Test Loss: 0.15729199349880219, Test Accuracy: 96.55999755859375 %\n",
      "\n",
      " \u001b[0m\n",
      "\u001b[32m [   394.18604s,  INFO] Restored from /tmp/kay/models/kaypruning/mnist/ckpt-5 \u001b[0m\n",
      "\u001b[32m [   394.18621s,  INFO] unit pruning: 70.0% \u001b[0m\n",
      "\u001b[32m [   396.14382s,  INFO] Test Loss: 0.45594504475593567, Test Accuracy: 95.06999969482422 %\n",
      "\n",
      " \u001b[0m\n",
      "\u001b[32m [   396.19213s,  INFO] Restored from /tmp/kay/models/kaypruning/mnist/ckpt-5 \u001b[0m\n",
      "\u001b[32m [   396.19230s,  INFO] unit pruning: 80.0% \u001b[0m\n",
      "\u001b[32m [   397.98367s,  INFO] Test Loss: 1.4223421812057495, Test Accuracy: 73.45999908447266 %\n",
      "\n",
      " \u001b[0m\n",
      "\u001b[32m [   398.03262s,  INFO] Restored from /tmp/kay/models/kaypruning/mnist/ckpt-5 \u001b[0m\n",
      "\u001b[32m [   398.03292s,  INFO] unit pruning: 90.0% \u001b[0m\n",
      "\u001b[32m [   399.83639s,  INFO] Test Loss: 2.245864152908325, Test Accuracy: 38.290000915527344 %\n",
      "\n",
      " \u001b[0m\n",
      "\u001b[32m [   399.88610s,  INFO] Restored from /tmp/kay/models/kaypruning/mnist/ckpt-5 \u001b[0m\n",
      "\u001b[32m [   399.88624s,  INFO] unit pruning: 95.0% \u001b[0m\n",
      "\u001b[32m [   401.65696s,  INFO] Test Loss: 2.289191722869873, Test Accuracy: 16.829999923706055 %\n",
      "\n",
      " \u001b[0m\n",
      "\u001b[32m [   401.70569s,  INFO] Restored from /tmp/kay/models/kaypruning/mnist/ckpt-5 \u001b[0m\n",
      "\u001b[32m [   401.70591s,  INFO] unit pruning: 97.0% \u001b[0m\n",
      "\u001b[32m [   403.53940s,  INFO] Test Loss: 2.300241470336914, Test Accuracy: 18.59000015258789 %\n",
      "\n",
      " \u001b[0m\n",
      "\u001b[32m [   403.58810s,  INFO] Restored from /tmp/kay/models/kaypruning/mnist/ckpt-5 \u001b[0m\n",
      "\u001b[32m [   403.58823s,  INFO] unit pruning: 99.0% \u001b[0m\n",
      "\u001b[32m [   405.34136s,  INFO] Test Loss: 2.302509307861328, Test Accuracy: 15.790000915527344 %\n",
      "\n",
      " \u001b[0m\n"
     ]
    }
   ],
   "source": [
    "trainer.run_pruning()"
   ]
  },
  {
   "cell_type": "code",
   "execution_count": 10,
   "metadata": {
    "colab": {},
    "colab_type": "code",
    "id": "Xl-Rq-9teVH_",
    "outputId": "1cec42dc-2427-4ab2-da01-6a370845b549"
   },
   "outputs": [
    {
     "name": "stdout",
     "output_type": "stream",
     "text": [
      "\u001b[32m [   443.96424s,  INFO] (0) Sparsity (k): 0.0% => Weight Loss: 0.11177998036146164, Weight Accuracy: 97.31999969482422% Unit Loss: 0.11177998036146164, Unit Accuracy: 97.31999969482422% \u001b[0m\n",
      "\u001b[32m [   443.96456s,  INFO] (1) Sparsity (k): 25.0% => Weight Loss: 0.10894376784563065, Weight Accuracy: 97.3699951171875% Unit Loss: 0.10792181640863419, Unit Accuracy: 97.33000183105469% \u001b[0m\n",
      "\u001b[32m [   443.96473s,  INFO] (2) Sparsity (k): 50.0% => Weight Loss: 0.0992799773812294, Weight Accuracy: 97.45999908447266% Unit Loss: 0.10237825661897659, Unit Accuracy: 97.1500015258789% \u001b[0m\n",
      "\u001b[32m [   443.96848s,  INFO] (3) Sparsity (k): 60.0% => Weight Loss: 0.09414451569318771, Weight Accuracy: 97.3699951171875% Unit Loss: 0.15729199349880219, Unit Accuracy: 96.55999755859375% \u001b[0m\n",
      "\u001b[32m [   443.96865s,  INFO] (4) Sparsity (k): 70.0% => Weight Loss: 0.10094326734542847, Weight Accuracy: 97.43000030517578% Unit Loss: 0.45594504475593567, Unit Accuracy: 95.06999969482422% \u001b[0m\n",
      "\u001b[32m [   443.96875s,  INFO] (5) Sparsity (k): 80.0% => Weight Loss: 0.20109416544437408, Weight Accuracy: 97.19999694824219% Unit Loss: 1.4223421812057495, Unit Accuracy: 73.45999908447266% \u001b[0m\n",
      "\u001b[32m [   443.96886s,  INFO] (6) Sparsity (k): 90.0% => Weight Loss: 1.0205215215682983, Weight Accuracy: 91.77999877929688% Unit Loss: 2.245864152908325, Unit Accuracy: 38.290000915527344% \u001b[0m\n",
      "\u001b[32m [   443.96899s,  INFO] (7) Sparsity (k): 95.0% => Weight Loss: 1.9457756280899048, Weight Accuracy: 76.22000122070312% Unit Loss: 2.289191722869873, Unit Accuracy: 16.829999923706055% \u001b[0m\n",
      "\u001b[32m [   443.96911s,  INFO] (8) Sparsity (k): 97.0% => Weight Loss: 2.1845741271972656, Weight Accuracy: 54.380001068115234% Unit Loss: 2.300241470336914, Unit Accuracy: 18.59000015258789% \u001b[0m\n",
      "\u001b[32m [   443.96924s,  INFO] (9) Sparsity (k): 99.0% => Weight Loss: 2.2965292930603027, Weight Accuracy: 27.529998779296875% Unit Loss: 2.302509307861328, Unit Accuracy: 15.790000915527344% \u001b[0m\n"
     ]
    }
   ],
   "source": [
    "trainer.print_metrics()"
   ]
  },
  {
   "cell_type": "code",
   "execution_count": 11,
   "metadata": {
    "colab": {},
    "colab_type": "code",
    "id": "hJ6bljzteVIM"
   },
   "outputs": [],
   "source": [
    "w_loss, w_acc, u_loss, u_acc = trainer.get_metrics()\n",
    "# w_loss, w_acc, u_loss, u_acc"
   ]
  },
  {
   "cell_type": "code",
   "execution_count": 12,
   "metadata": {
    "colab": {},
    "colab_type": "code",
    "id": "H9iPCZSaeVIQ",
    "outputId": "d5fd86dc-c34c-4079-e754-1e4269de5edc"
   },
   "outputs": [
    {
     "data": {
      "image/png": "[encoded data removed]",
      "text/plain": [
       "<Figure size 432x288 with 1 Axes>"
      ]
     },
     "metadata": {
      "needs_background": "light"
     },
     "output_type": "display_data"
    }
   ],
   "source": [
    "plot(y=w_loss, prune_type='Weight', type='Loss')"
   ]
  },
  {
   "cell_type": "code",
   "execution_count": 13,
   "metadata": {
    "colab": {},
    "colab_type": "code",
    "id": "GpBtw7GWeVIX",
    "outputId": "a2c6ec46-257c-43db-de83-13e61398e615"
   },
   "outputs": [
    {
     "data": {
      "image/png": "[encoded data removed]",
      "text/plain": [
       "<Figure size 432x288 with 1 Axes>"
      ]
     },
     "metadata": {
      "needs_background": "light"
     },
     "output_type": "display_data"
    }
   ],
   "source": [
    "plot(y=w_acc, prune_type='Weight', type='Accuracy')"
   ]
  },
  {
   "cell_type": "code",
   "execution_count": 14,
   "metadata": {
    "colab": {},
    "colab_type": "code",
    "id": "jCOJf_lpeVId",
    "outputId": "e913377d-b213-4319-83b0-ea75219f7a23"
   },
   "outputs": [
    {
     "data": {
      "image/png": "[encoded data removed]",
      "text/plain": [
       "<Figure size 432x288 with 1 Axes>"
      ]
     },
     "metadata": {
      "needs_background": "light"
     },
     "output_type": "display_data"
    }
   ],
   "source": [
    "plot(y=u_loss, prune_type='Unit', type='Loss')"
   ]
  },
  {
   "cell_type": "code",
   "execution_count": 15,
   "metadata": {
    "colab": {},
    "colab_type": "code",
    "id": "A5W_DAp0eVIs",
    "outputId": "38b056e0-fa14-4b48-976c-cee7d0d84802"
   },
   "outputs": [
    {
     "data": {
      "image/png": "[encoded data removed]",
      "text/plain": [
       "<Figure size 432x288 with 1 Axes>"
      ]
     },
     "metadata": {
      "needs_background": "light"
     },
     "output_type": "display_data"
    }
   ],
   "source": [
    "plot(y=u_acc, prune_type='Unit', type='Accuracy')"
   ]
  },
  {
   "cell_type": "markdown",
   "metadata": {
    "colab_type": "text",
    "id": "KeHMFJ27eVI3"
   },
   "source": [
    "#### Two Pruning Methods"
   ]
  },
  {
   "cell_type": "code",
   "execution_count": 16,
   "metadata": {
    "colab": {},
    "colab_type": "code",
    "id": "L7NaRzdJeVI4",
    "outputId": "23ef0b1b-9da5-4708-a50f-e686a7f73dc3"
   },
   "outputs": [
    {
     "data": {
      "image/png": "[encoded data removed]",
      "text/plain": [
       "<Figure size 432x288 with 1 Axes>"
      ]
     },
     "metadata": {
      "needs_background": "light"
     },
     "output_type": "display_data"
    }
   ],
   "source": [
    "plt.plot(prune_configs.k, w_acc, label = \"Weight Pruning\") \n",
    "plt.plot(prune_configs.k, u_acc, label = \"Unit Pruning\") \n",
    "  \n",
    "plt.xlabel('Sparsity (%)') \n",
    "plt.ylabel('Test Accuracy') \n",
    "plt.title('Pruning') \n",
    "  \n",
    "\n",
    "plt.legend() \n",
    "plt.show()"
   ]
  },
  {
   "cell_type": "code",
   "execution_count": 17,
   "metadata": {
    "colab": {},
    "colab_type": "code",
    "id": "FLLI-b9YeVJC",
    "outputId": "cedb46f0-a7cf-482c-dbbb-ce643bf573c5"
   },
   "outputs": [
    {
     "data": {
      "text/html": [
       "<div>\n",
       "<style scoped>\n",
       "    .dataframe tbody tr th:only-of-type {\n",
       "        vertical-align: middle;\n",
       "    }\n",
       "\n",
       "    .dataframe tbody tr th {\n",
       "        vertical-align: top;\n",
       "    }\n",
       "\n",
       "    .dataframe thead th {\n",
       "        text-align: right;\n",
       "    }\n",
       "</style>\n",
       "<table border=\"1\" class=\"dataframe\">\n",
       "  <thead>\n",
       "    <tr style=\"text-align: right;\">\n",
       "      <th></th>\n",
       "      <th>Percent Sparsity</th>\n",
       "      <th>Test Accuracy (Weight Pruning)</th>\n",
       "      <th>Test Accuracy (Unit Pruning)</th>\n",
       "    </tr>\n",
       "  </thead>\n",
       "  <tbody>\n",
       "    <tr>\n",
       "      <td>0</td>\n",
       "      <td>0.0</td>\n",
       "      <td>tf.Tensor(97.32, shape=(), dtype=float32)</td>\n",
       "      <td>tf.Tensor(97.32, shape=(), dtype=float32)</td>\n",
       "    </tr>\n",
       "    <tr>\n",
       "      <td>1</td>\n",
       "      <td>25.0</td>\n",
       "      <td>tf.Tensor(97.369995, shape=(), dtype=float32)</td>\n",
       "      <td>tf.Tensor(97.33, shape=(), dtype=float32)</td>\n",
       "    </tr>\n",
       "    <tr>\n",
       "      <td>2</td>\n",
       "      <td>50.0</td>\n",
       "      <td>tf.Tensor(97.46, shape=(), dtype=float32)</td>\n",
       "      <td>tf.Tensor(97.15, shape=(), dtype=float32)</td>\n",
       "    </tr>\n",
       "    <tr>\n",
       "      <td>3</td>\n",
       "      <td>60.0</td>\n",
       "      <td>tf.Tensor(97.369995, shape=(), dtype=float32)</td>\n",
       "      <td>tf.Tensor(96.56, shape=(), dtype=float32)</td>\n",
       "    </tr>\n",
       "    <tr>\n",
       "      <td>4</td>\n",
       "      <td>70.0</td>\n",
       "      <td>tf.Tensor(97.43, shape=(), dtype=float32)</td>\n",
       "      <td>tf.Tensor(95.07, shape=(), dtype=float32)</td>\n",
       "    </tr>\n",
       "    <tr>\n",
       "      <td>5</td>\n",
       "      <td>80.0</td>\n",
       "      <td>tf.Tensor(97.2, shape=(), dtype=float32)</td>\n",
       "      <td>tf.Tensor(73.46, shape=(), dtype=float32)</td>\n",
       "    </tr>\n",
       "    <tr>\n",
       "      <td>6</td>\n",
       "      <td>90.0</td>\n",
       "      <td>tf.Tensor(91.78, shape=(), dtype=float32)</td>\n",
       "      <td>tf.Tensor(38.29, shape=(), dtype=float32)</td>\n",
       "    </tr>\n",
       "    <tr>\n",
       "      <td>7</td>\n",
       "      <td>95.0</td>\n",
       "      <td>tf.Tensor(76.22, shape=(), dtype=float32)</td>\n",
       "      <td>tf.Tensor(16.83, shape=(), dtype=float32)</td>\n",
       "    </tr>\n",
       "    <tr>\n",
       "      <td>8</td>\n",
       "      <td>97.0</td>\n",
       "      <td>tf.Tensor(54.38, shape=(), dtype=float32)</td>\n",
       "      <td>tf.Tensor(18.59, shape=(), dtype=float32)</td>\n",
       "    </tr>\n",
       "    <tr>\n",
       "      <td>9</td>\n",
       "      <td>99.0</td>\n",
       "      <td>tf.Tensor(27.529999, shape=(), dtype=float32)</td>\n",
       "      <td>tf.Tensor(15.790001, shape=(), dtype=float32)</td>\n",
       "    </tr>\n",
       "  </tbody>\n",
       "</table>\n",
       "</div>"
      ],
      "text/plain": [
       "   Percent Sparsity                 Test Accuracy (Weight Pruning)  \\\n",
       "0               0.0      tf.Tensor(97.32, shape=(), dtype=float32)   \n",
       "1              25.0  tf.Tensor(97.369995, shape=(), dtype=float32)   \n",
       "2              50.0      tf.Tensor(97.46, shape=(), dtype=float32)   \n",
       "3              60.0  tf.Tensor(97.369995, shape=(), dtype=float32)   \n",
       "4              70.0      tf.Tensor(97.43, shape=(), dtype=float32)   \n",
       "5              80.0       tf.Tensor(97.2, shape=(), dtype=float32)   \n",
       "6              90.0      tf.Tensor(91.78, shape=(), dtype=float32)   \n",
       "7              95.0      tf.Tensor(76.22, shape=(), dtype=float32)   \n",
       "8              97.0      tf.Tensor(54.38, shape=(), dtype=float32)   \n",
       "9              99.0  tf.Tensor(27.529999, shape=(), dtype=float32)   \n",
       "\n",
       "                    Test Accuracy (Unit Pruning)  \n",
       "0      tf.Tensor(97.32, shape=(), dtype=float32)  \n",
       "1      tf.Tensor(97.33, shape=(), dtype=float32)  \n",
       "2      tf.Tensor(97.15, shape=(), dtype=float32)  \n",
       "3      tf.Tensor(96.56, shape=(), dtype=float32)  \n",
       "4      tf.Tensor(95.07, shape=(), dtype=float32)  \n",
       "5      tf.Tensor(73.46, shape=(), dtype=float32)  \n",
       "6      tf.Tensor(38.29, shape=(), dtype=float32)  \n",
       "7      tf.Tensor(16.83, shape=(), dtype=float32)  \n",
       "8      tf.Tensor(18.59, shape=(), dtype=float32)  \n",
       "9  tf.Tensor(15.790001, shape=(), dtype=float32)  "
      ]
     },
     "execution_count": 17,
     "metadata": {},
     "output_type": "execute_result"
    }
   ],
   "source": [
    "pd.DataFrame(data={\n",
    "    'Percent Sparsity': list(map(lambda k: k * 100, prune_configs.k)),\n",
    "    'Test Accuracy (Weight Pruning)': w_acc,\n",
    "    'Test Accuracy (Unit Pruning)': u_acc,    \n",
    "})"
   ]
  },
  {
   "cell_type": "markdown",
   "metadata": {
    "colab_type": "text",
    "id": "MVfeTqt2eVJN"
   },
   "source": [
    "# Analysis"
   ]
  },
  {
   "cell_type": "markdown",
   "metadata": {
    "colab_type": "text",
    "id": "3JQASx5Vemqk"
   },
   "source": [
    "## Summary:\n",
    "\n",
    "Pruning neural network can throw out many of the neurons of the network without affecting the performance/accuracy so much. This enables neural networks to be faster and smaller. This is very useful when deploying models for mobile application as the models will take less space on the disk.\n",
    "\n",
    "As we can see from the results, we can observe that the weight pruning is considered to be better than the unit pruning. This might be because in weight pruning we remove the least significant weights that have a small impact on the model. This allows the method to have approximately the same accuracy (~ 0.42 difference) with sparsity (80%). Comparing this to the unit pruning, we can observe that it hurts the accuracy of the model and have a big decline with higher sparsity percent. With (80%) sparsity, the accuracy of the model dropped to 82.78% with a drop of (~ 14.8)!\n",
    "\n",
    "Why the pruning has similar accuracy even after pruning more than 50% of the network. This might be because of some parameters have redundancy, some duplication in the information represented in the learned model. So eliminating some weights from a very large network that do a simple task of classifying some images from (MNIST or Fashion-MNIST) can have the same performance.\n"
   ]
  },
  {
   "cell_type": "markdown",
   "metadata": {
    "colab_type": "text",
    "id": "QT66wPKjjBT5"
   },
   "source": [
    "## Questions & Answers (QA)"
   ]
  },
  {
   "cell_type": "markdown",
   "metadata": {
    "colab_type": "text",
    "id": "vXVfRbKYeVJP"
   },
   "source": [
    "### What interesting insights did you find? \n",
    "> Pruning Neural Networks till 60% have a little impact on the model performance. After that, pruning with higher k values have a huge impact on performance. Comparing the two pruning methods, I found the performance is better when using Weight pruning compared to the Unit pruning. \n",
    "\n",
    "> In Unit pruning, starting from (70%), there is a big decrease in the performance. Whereas in Weight Pruning, this happens 95% and 99% sparsity. Both pruning methods perform very badly at 99% sparsity!"
   ]
  },
  {
   "cell_type": "markdown",
   "metadata": {
    "colab_type": "text",
    "id": "wnI1dBGReVJS"
   },
   "source": [
    "### Do the curves differ?\n",
    "> Both curves are approximately similar till 60% sparsity. \n",
    "This is a serious declining for\n",
    "    * Unit pruning: between 70-99% \n",
    "    * Weight pruning: between 95-99%"
   ]
  },
  {
   "cell_type": "markdown",
   "metadata": {
    "colab_type": "text",
    "id": "1eyrWvd4eVJV"
   },
   "source": [
    "### Why do you think that is/isn’t? \n",
    "> I think unit pruning is a little aggressive and have a higher impact since we eliminate entire columns in the weight matrix which might have good connections and affect the overall performance. \n",
    "\n",
    "> This is not the case for weight pruning as we are getting rid of the weights that have the least impact on the model and are not contributing that much for the model. Also, since they are randomly deleted from different layers according to their absolute value this might have less correlation between them."
   ]
  },
  {
   "cell_type": "markdown",
   "metadata": {
    "colab_type": "text",
    "id": "05MIbuU0eVJd"
   },
   "source": [
    "### Do you have any hypotheses as to why we are able to delete so much of the network without hurting performance (this is an open research question)?\n",
    "> This is because we have a very large network with so many neurons for a simple task (classifying MNIST || Fashion-MNIST). Hence, pruning with slightly large percentage can still save the same performance or doesn't hurt the performance so much."
   ]
  },
  {
   "cell_type": "markdown",
   "metadata": {
    "colab_type": "text",
    "id": "cUTcdxiIjJ9e"
   },
   "source": [
    "## Bonus"
   ]
  },
  {
   "cell_type": "markdown",
   "metadata": {
    "colab_type": "text",
    "id": "z1eCc3zjjLKE"
   },
   "source": [
    "According to [Tensorflow sparse training](https://www.tensorflow.org/model_optimization/guide/pruning/train_sparse_models) we can prune the model while the training is proceeding be schudling the pruning process. Also, for matrix multiplication with sparsity, the multiplications between some rows and  columns will be redundant and output will be zero. This can reduces the execution time.\n",
    "\n",
    "[J. Frankle & M. Carbin: The Lottery Ticket Hypothesis: Finding Sparse, Trainable Neural Networks](https://www.youtube.com/watch?v=s7DqRZVvRiQ): we can train (sparsely) pruned networks from scratch. This can be done be doing weight pruning before training. The process is randomly initializing the full network, train and prune it, then resting the remaining weights to its value from the initialization. "
   ]
  }
 ],
 "metadata": {
  "colab": {
   "include_colab_link": true,
   "name": "forai.ipynb",
   "provenance": []
  },
  "kernelspec": {
   "display_name": "Python 3",
   "language": "python",
   "name": "python3"
  },
  "language_info": {
   "codemirror_mode": {
    "name": "ipython",
    "version": 3
   },
   "file_extension": ".py",
   "mimetype": "text/x-python",
   "name": "python",
   "nbconvert_exporter": "python",
   "pygments_lexer": "ipython3",
   "version": "3.7.4"
  }
 },
 "nbformat": 4,
 "nbformat_minor": 1
}
